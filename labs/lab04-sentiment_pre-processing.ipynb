{
 "cells": [
  {
   "cell_type": "markdown",
   "metadata": {},
   "source": [
    "# Pre-Processing\n",
    "\n",
    "In this notebook we will use what we learned in lab 03 about forming the data, the end result is a dataset that we can feed weka to test models on.\n",
    "\n",
    "### So we will:\n",
    "\n",
    "1. [Load the dataset](#chapter1)\n",
    "2. [Split the text into sentences](#chapter2)\n",
    "3. [Perform sentiment analysis on the sentences](#chapter3)\n",
    "4. [Include statistical features](#chapter4)\n",
    "5. [Resample the data to 150 points](#chapter5)\n",
    "6. [Store it in a row of a dataframe](#chapter6)\n",
    "7. [Export it to a csv](#chapter7)\n",
    "\n",
    "<br> <br>"
   ]
  },
  {
   "cell_type": "code",
   "execution_count": 2,
   "metadata": {},
   "outputs": [
    {
     "name": "stderr",
     "output_type": "stream",
     "text": [
      "[nltk_data] Downloading package punkt to\n",
      "[nltk_data]     C:\\Users\\emiel\\AppData\\Roaming\\nltk_data...\n",
      "[nltk_data]   Package punkt is already up-to-date!\n",
      "[nltk_data] Downloading package vader_lexicon to\n",
      "[nltk_data]     C:\\Users\\emiel\\AppData\\Roaming\\nltk_data...\n",
      "[nltk_data]   Package vader_lexicon is already up-to-date!\n"
     ]
    }
   ],
   "source": [
    "# imports\n",
    "import os\n",
    "import pandas as pd\n",
    "import numpy as np\n",
    "\n",
    "from nltk.sentiment.vader import SentimentIntensityAnalyzer as SIA\n",
    "sia = SIA()\n",
    "\n",
    "import nltk\n",
    "#file for punkt splitter\n",
    "nltk.download('punkt');\n",
    "#file for vader sentiment\n",
    "nltk.download('vader_lexicon');\n",
    "\n",
    "import matplotlib.pyplot as plt\n",
    "plt.rcParams[\"figure.figsize\"]=20,20\n",
    "%matplotlib inline"
   ]
  },
  {
   "cell_type": "markdown",
   "metadata": {},
   "source": [
    "<br>\n",
    "\n",
    "### 1: Load the dataset <a class=\"anchor\" id=\"chapter1\"></a>"
   ]
  },
  {
   "cell_type": "code",
   "execution_count": 3,
   "metadata": {},
   "outputs": [
    {
     "data": {
      "text/html": [
       "<div>\n",
       "<style scoped>\n",
       "    .dataframe tbody tr th:only-of-type {\n",
       "        vertical-align: middle;\n",
       "    }\n",
       "\n",
       "    .dataframe tbody tr th {\n",
       "        vertical-align: top;\n",
       "    }\n",
       "\n",
       "    .dataframe thead th {\n",
       "        text-align: right;\n",
       "    }\n",
       "</style>\n",
       "<table border=\"1\" class=\"dataframe\">\n",
       "  <thead>\n",
       "    <tr style=\"text-align: right;\">\n",
       "      <th></th>\n",
       "      <th>title</th>\n",
       "      <th>text</th>\n",
       "      <th>subject</th>\n",
       "      <th>date</th>\n",
       "    </tr>\n",
       "  </thead>\n",
       "  <tbody>\n",
       "    <tr>\n",
       "      <th>0</th>\n",
       "      <td>As U.S. budget fight looms, Republicans flip t...</td>\n",
       "      <td>WASHINGTON (Reuters) - The head of a conservat...</td>\n",
       "      <td>politicsNews</td>\n",
       "      <td>December 31, 2017</td>\n",
       "    </tr>\n",
       "    <tr>\n",
       "      <th>1</th>\n",
       "      <td>U.S. military to accept transgender recruits o...</td>\n",
       "      <td>WASHINGTON (Reuters) - Transgender people will...</td>\n",
       "      <td>politicsNews</td>\n",
       "      <td>December 29, 2017</td>\n",
       "    </tr>\n",
       "    <tr>\n",
       "      <th>2</th>\n",
       "      <td>Senior U.S. Republican senator: 'Let Mr. Muell...</td>\n",
       "      <td>WASHINGTON (Reuters) - The special counsel inv...</td>\n",
       "      <td>politicsNews</td>\n",
       "      <td>December 31, 2017</td>\n",
       "    </tr>\n",
       "    <tr>\n",
       "      <th>3</th>\n",
       "      <td>FBI Russia probe helped by Australian diplomat...</td>\n",
       "      <td>WASHINGTON (Reuters) - Trump campaign adviser ...</td>\n",
       "      <td>politicsNews</td>\n",
       "      <td>December 30, 2017</td>\n",
       "    </tr>\n",
       "    <tr>\n",
       "      <th>4</th>\n",
       "      <td>Trump wants Postal Service to charge 'much mor...</td>\n",
       "      <td>SEATTLE/WASHINGTON (Reuters) - President Donal...</td>\n",
       "      <td>politicsNews</td>\n",
       "      <td>December 29, 2017</td>\n",
       "    </tr>\n",
       "  </tbody>\n",
       "</table>\n",
       "</div>"
      ],
      "text/plain": [
       "                                               title  \\\n",
       "0  As U.S. budget fight looms, Republicans flip t...   \n",
       "1  U.S. military to accept transgender recruits o...   \n",
       "2  Senior U.S. Republican senator: 'Let Mr. Muell...   \n",
       "3  FBI Russia probe helped by Australian diplomat...   \n",
       "4  Trump wants Postal Service to charge 'much mor...   \n",
       "\n",
       "                                                text       subject  \\\n",
       "0  WASHINGTON (Reuters) - The head of a conservat...  politicsNews   \n",
       "1  WASHINGTON (Reuters) - Transgender people will...  politicsNews   \n",
       "2  WASHINGTON (Reuters) - The special counsel inv...  politicsNews   \n",
       "3  WASHINGTON (Reuters) - Trump campaign adviser ...  politicsNews   \n",
       "4  SEATTLE/WASHINGTON (Reuters) - President Donal...  politicsNews   \n",
       "\n",
       "                 date  \n",
       "0  December 31, 2017   \n",
       "1  December 29, 2017   \n",
       "2  December 31, 2017   \n",
       "3  December 30, 2017   \n",
       "4  December 29, 2017   "
      ]
     },
     "metadata": {},
     "output_type": "display_data"
    },
    {
     "data": {
      "text/html": [
       "<div>\n",
       "<style scoped>\n",
       "    .dataframe tbody tr th:only-of-type {\n",
       "        vertical-align: middle;\n",
       "    }\n",
       "\n",
       "    .dataframe tbody tr th {\n",
       "        vertical-align: top;\n",
       "    }\n",
       "\n",
       "    .dataframe thead th {\n",
       "        text-align: right;\n",
       "    }\n",
       "</style>\n",
       "<table border=\"1\" class=\"dataframe\">\n",
       "  <thead>\n",
       "    <tr style=\"text-align: right;\">\n",
       "      <th></th>\n",
       "      <th>title</th>\n",
       "      <th>text</th>\n",
       "      <th>subject</th>\n",
       "      <th>date</th>\n",
       "    </tr>\n",
       "  </thead>\n",
       "  <tbody>\n",
       "    <tr>\n",
       "      <th>0</th>\n",
       "      <td>Donald Trump Sends Out Embarrassing New Year’...</td>\n",
       "      <td>Donald Trump just couldn t wish all Americans ...</td>\n",
       "      <td>News</td>\n",
       "      <td>December 31, 2017</td>\n",
       "    </tr>\n",
       "    <tr>\n",
       "      <th>1</th>\n",
       "      <td>Drunk Bragging Trump Staffer Started Russian ...</td>\n",
       "      <td>House Intelligence Committee Chairman Devin Nu...</td>\n",
       "      <td>News</td>\n",
       "      <td>December 31, 2017</td>\n",
       "    </tr>\n",
       "    <tr>\n",
       "      <th>2</th>\n",
       "      <td>Sheriff David Clarke Becomes An Internet Joke...</td>\n",
       "      <td>On Friday, it was revealed that former Milwauk...</td>\n",
       "      <td>News</td>\n",
       "      <td>December 30, 2017</td>\n",
       "    </tr>\n",
       "    <tr>\n",
       "      <th>3</th>\n",
       "      <td>Trump Is So Obsessed He Even Has Obama’s Name...</td>\n",
       "      <td>On Christmas day, Donald Trump announced that ...</td>\n",
       "      <td>News</td>\n",
       "      <td>December 29, 2017</td>\n",
       "    </tr>\n",
       "    <tr>\n",
       "      <th>4</th>\n",
       "      <td>Pope Francis Just Called Out Donald Trump Dur...</td>\n",
       "      <td>Pope Francis used his annual Christmas Day mes...</td>\n",
       "      <td>News</td>\n",
       "      <td>December 25, 2017</td>\n",
       "    </tr>\n",
       "  </tbody>\n",
       "</table>\n",
       "</div>"
      ],
      "text/plain": [
       "                                               title  \\\n",
       "0   Donald Trump Sends Out Embarrassing New Year’...   \n",
       "1   Drunk Bragging Trump Staffer Started Russian ...   \n",
       "2   Sheriff David Clarke Becomes An Internet Joke...   \n",
       "3   Trump Is So Obsessed He Even Has Obama’s Name...   \n",
       "4   Pope Francis Just Called Out Donald Trump Dur...   \n",
       "\n",
       "                                                text subject  \\\n",
       "0  Donald Trump just couldn t wish all Americans ...    News   \n",
       "1  House Intelligence Committee Chairman Devin Nu...    News   \n",
       "2  On Friday, it was revealed that former Milwauk...    News   \n",
       "3  On Christmas day, Donald Trump announced that ...    News   \n",
       "4  Pope Francis used his annual Christmas Day mes...    News   \n",
       "\n",
       "                date  \n",
       "0  December 31, 2017  \n",
       "1  December 31, 2017  \n",
       "2  December 30, 2017  \n",
       "3  December 29, 2017  \n",
       "4  December 25, 2017  "
      ]
     },
     "metadata": {},
     "output_type": "display_data"
    }
   ],
   "source": [
    "dataset_path_true = os.path.join(\"sources\", \"ISOT\", \"True.csv\")\n",
    "dataset_path_fake = os.path.join(\"sources\", \"ISOT\", \"Fake.csv\")\n",
    "\n",
    "dataset_load_true = pd.read_csv(dataset_path_true, encoding='utf-8') # make sure to use the right encoding\n",
    "dataset_load_fake = pd.read_csv(dataset_path_fake, encoding='utf-8') \n",
    "\n",
    "display(dataset_load_true.head())\n",
    "display(dataset_load_fake.head())"
   ]
  },
  {
   "cell_type": "markdown",
   "metadata": {},
   "source": [
    "<br>\n",
    "\n",
    "### 2: Split the text into sentences <a class=\"anchor\" id=\"chapter2\"></a>\n",
    "\n",
    "in lab 03 we used a big manual function, but for now we will use the nltk tokenizer in this one :)"
   ]
  },
  {
   "cell_type": "code",
   "execution_count": 5,
   "metadata": {},
   "outputs": [
    {
     "data": {
      "text/plain": [
       "0     WASHINGTON (Reuters) - The head of a conservat...\n",
       "1     In keeping with a sharp pivot under way among ...\n",
       "28    The package far exceeded the $44 billion reque...\n",
       "29             The Senate has not yet voted on the aid.\n",
       "dtype: object"
      ]
     },
     "metadata": {},
     "output_type": "display_data"
    }
   ],
   "source": [
    "def split_sentences(article_text):\n",
    "    \"\"\"Takes a string, returns a list of its individual sentences ()\"\"\"\n",
    "    return pd.Series(nltk.tokenize.sent_tokenize(article_text))\n",
    "\n",
    "sample_sentences = split_sentences(dataset_load_true.text[0])\n",
    "display(sample_sentences.iloc[[0,1,-2,-1]])"
   ]
  },
  {
   "cell_type": "markdown",
   "metadata": {},
   "source": [
    "<br>\n",
    "\n",
    "### 3: Performing sentiment analysis <a class=\"anchor\" id=\"chapter3\"></a>\n"
   ]
  },
  {
   "cell_type": "code",
   "execution_count": 6,
   "metadata": {},
   "outputs": [
    {
     "name": "stdout",
     "output_type": "stream",
     "text": [
      "0    -0.4215\n",
      "1    -0.4588\n",
      "28    0.0000\n",
      "29    0.0000\n",
      "dtype: float64\n"
     ]
    }
   ],
   "source": [
    "def get_scores(text: list, method='VADER'):\n",
    "    if method == 'VADER':\n",
    "        scores = text.apply(lambda s: sia.polarity_scores(s)['compound']) #list of compound score per sentence\n",
    "    else:\n",
    "        scores = None\n",
    "\n",
    "    return scores\n",
    "\n",
    "sample_scores = get_scores(sample_sentences)\n",
    "print(sample_scores.iloc[[0,1,-2,-1]])"
   ]
  },
  {
   "cell_type": "markdown",
   "metadata": {},
   "source": [
    "<br>\n",
    "\n",
    "### 4: Include statistical features <a class=\"anchor\" id=\"chapter4\"></a>\n"
   ]
  },
  {
   "cell_type": "code",
   "execution_count": 7,
   "metadata": {},
   "outputs": [
    {
     "name": "stdout",
     "output_type": "stream",
     "text": [
      "count    30.000000\n",
      "mean      0.076147\n",
      "std       0.402857\n",
      "min      -0.636900\n",
      "25%      -0.077025\n",
      "50%       0.000000\n",
      "75%       0.318200\n",
      "max       0.906200\n",
      "dtype: float64\n"
     ]
    }
   ],
   "source": [
    "def get_stats(scores):\n",
    "    stats = scores.describe()\n",
    "    return stats\n",
    "\n",
    "sample_stats = get_stats(sample_scores)\n",
    "print(sample_stats)"
   ]
  },
  {
   "cell_type": "markdown",
   "metadata": {},
   "source": [
    "<br>\n",
    "\n",
    "### 5: Resample the data <a class=\"anchor\" id=\"chapter5\"></a>\n",
    "\n"
   ]
  },
  {
   "cell_type": "code",
   "execution_count": 14,
   "metadata": {},
   "outputs": [],
   "source": [
    "def resample_to_x(scores, scores_len=0, x = 100, to_dict = False):\n",
    "    scores_len = len(scores)\n",
    "    if scores_len <= x: #resample to higher (or same) res\n",
    "        if scores_len > 1:\n",
    "            slope = (x - 1)/ (scores_len - 1)\n",
    "            new_indices = ['p_'+f'{int(slope * i):03}' for i in range(int(scores_len))]\n",
    "\n",
    "            new_scores = scores[:]\n",
    "            new_scores.index = new_indices\n",
    "\n",
    "            new_series = pd.Series(index = ['p_'+f'{i:03}' for i in range(int(x))], dtype='float64')\n",
    "\n",
    "            output = new_scores.combine_first(new_series)\n",
    "            output = output.interpolate()\n",
    "        elif scores_len == 1:\n",
    "            output = pd.Series(data = scores[0], index = ['p_'+f'{i:03}' for i in range(int(x))], dtype='float64')\n",
    "        else:\n",
    "            output = pd.Series(data = None, index = ['p_'+f'{i:03}' for i in range(int(x))], dtype='float64')\n",
    "            \n",
    "    elif scores_len > x: #downscale ;(\n",
    "        y = int(np.ceil(len(scores)/x)) # bin size \n",
    "        \n",
    "        new_scores = [np.mean(i) for i in np.array_split(np.array(scores), x)]\n",
    "        output = pd.Series(data = new_scores, index = ['p_'+f'{i:03}' for i in range(int(x))], dtype='float64')\n",
    "        \n",
    "    if not to_dict:\n",
    "        return output\n",
    "    else:\n",
    "        return output.to_dict()\n",
    "    \n",
    "sample_interp = resample_to_x(sample_scores, sample_stats['count'])\n"
   ]
  },
  {
   "cell_type": "code",
   "execution_count": 9,
   "metadata": {},
   "outputs": [
    {
     "data": {
      "image/png": "[encoded data removed]",
      "text/plain": [
       "<Figure size 432x288 with 3 Axes>"
      ]
     },
     "metadata": {
      "needs_background": "light"
     },
     "output_type": "display_data"
    }
   ],
   "source": [
    "fig, axes = plt.subplots(nrows=3, ncols=1)\n",
    "plt.subplots_adjust(hspace=0.8)\n",
    "\n",
    "sample_scores.plot(ax=axes[0]);\n",
    "axes[0].set_title('Original Scores');\n",
    "\n",
    "sample_interp.plot(ax=axes[1]);\n",
    "axes[1].set_title('Resampled Scores');\n",
    "\n",
    "downsample_interp = resample_to_x(sample_scores, sample_stats['count'], x=10)\n",
    "downsample_interp.plot(ax=axes[2]);\n",
    "axes[2].set_title('Downsampled Scores');\n"
   ]
  },
  {
   "cell_type": "code",
   "execution_count": 18,
   "metadata": {},
   "outputs": [
    {
     "data": {
      "image/png": "[encoded data removed]",
      "text/plain": [
       "<Figure size 432x288 with 3 Axes>"
      ]
     },
     "metadata": {
      "needs_background": "light"
     },
     "output_type": "display_data"
    }
   ],
   "source": [
    "s1 = resample_to_x(get_scores(split_sentences(dataset_load_true.text[0])))\n",
    "s2 = resample_to_x(get_scores(split_sentences(dataset_load_true.text[3])))\n",
    "s3 = resample_to_x(get_scores(split_sentences(dataset_load_true.text[10])))\n",
    "\n",
    "fig, axes = plt.subplots(nrows=3, ncols=1)\n",
    "plt.subplots_adjust(hspace=0.8)\n",
    "\n",
    "s1.plot(ax=axes[0]);\n",
    "axes[0].set_title('Article 1 Sentiment Sequence');\n",
    "\n",
    "s2.plot(ax=axes[1]);\n",
    "axes[1].set_title('Article 2 Sentiment Sequence');\n",
    "\n",
    "s3.plot(ax=axes[2]);\n",
    "axes[2].set_title('Article 3 Sentiment Sequence');\n"
   ]
  },
  {
   "cell_type": "markdown",
   "metadata": {},
   "source": [
    "<br>\n",
    "\n",
    "### 6: Create the dataframe <a class=\"anchor\" id=\"chapter6\"></a>"
   ]
  },
  {
   "cell_type": "code",
   "execution_count": 8,
   "metadata": {},
   "outputs": [],
   "source": [
    "def get_all(text, veracity: str, resample_size: int = 200):\n",
    "    try: \n",
    "        # should all be dicts with the appropriate name\n",
    "        sentences = split_sentences(text) # list\n",
    "        scores = get_scores(sentences) #  list but ok, will be\n",
    "        stats = get_stats(scores) # dict yes!\n",
    "        scores_interp = resample_to_x(scores, stats['count'], resample_size, to_dict=True) # dict si (p_000 through p_resamplesize)\n",
    "        v = {'veracity': veracity}\n",
    "        v.update(stats)\n",
    "        v.update(scores_interp)\n",
    "        return pd.Series(v)\n",
    "    except Exception as e:\n",
    "        print(\"ERROR on text: \\n\"+text+\"\\n\\n\",stats['count'])\n",
    "        raise e\n",
    "\n",
    "# print(get_all(dataset_load_true.text[0], 1))"
   ]
  },
  {
   "cell_type": "code",
   "execution_count": 9,
   "metadata": {},
   "outputs": [
    {
     "name": "stdout",
     "output_type": "stream",
     "text": [
      "185 ms ± 3.87 ms per loop (mean ± std. dev. of 7 runs, 1 loop each)\n"
     ]
    }
   ],
   "source": [
    "%%timeit\n",
    "\n",
    "# this cell is for verifying that the method at least works on a small scale (8 instances)\n",
    "# much quicker to debug than large scale (40k+ instances) ;(\n",
    "\n",
    "resample_size = 200\n",
    "\n",
    "cols = ['veracity', 'count', 'mean', 'std', 'min', '25%', '50%', '75%', 'max']\n",
    "cols.extend(['p_'+f'{n:03}' for n in range(resample_size)])\n",
    "\n",
    "miniset_true = dataset_load_true.head()\n",
    "miniset_fake = dataset_load_fake.head()\n",
    "\n",
    "miniset_prepro = pd.DataFrame(columns = cols)\n",
    "miniset_prepro[cols] = miniset_true.text.apply(get_all, args=('T', resample_size));\n",
    "miniset_prepro = pd.concat([miniset_prepro, (miniset_fake.text.apply(get_all, args=('F', resample_size)))], ignore_index=True)\n",
    "\n",
    "miniset_prepro.iloc[[0,1,-2,-1]]\n",
    "miniset_prepro.to_csv(os.path.join('out', 'mini_truefake.csv'), index=False)"
   ]
  },
  {
   "cell_type": "code",
   "execution_count": null,
   "metadata": {},
   "outputs": [],
   "source": []
  },
  {
   "cell_type": "code",
   "execution_count": 10,
   "metadata": {},
   "outputs": [
    {
     "name": "stderr",
     "output_type": "stream",
     "text": [
      "UsageError: Can't use statement directly after '%%time'!\n"
     ]
    }
   ],
   "source": [
    "%%time # takes about 6 minutes on my device so I recommend skipping this cell :)\n",
    "\n",
    "# resample_size = 200\n",
    "\n",
    "# cols = ['veracity', 'count', 'mean', 'std', 'min', '25%', '50%', '75%', 'max']\n",
    "# cols.extend(['p_'+f'{n:03}' for n in range(resample_size)])\n",
    "\n",
    "# dataset_prepro = pd.DataFrame(columns = cols)\n",
    "\n",
    "# print(\"We'll give it a shot!\")\n",
    "# dataset_prepro[cols] = dataset_load_true.text.apply(get_all, args=('T', resample_size));\n",
    "# print(\"Woah, we're halfway there!\")\n",
    "# dataset_prepro = pd.concat([dataset_prepro, (dataset_load_fake.text.apply(get_all, args=('F', resample_size)))], ignore_index=True);\n",
    "# print(\"Woah, livin' on a prayer\")\n",
    "\n",
    "# dataset_prepro = dataset_prepro[dataset_prepro['count'] != 0.0]\n",
    "\n",
    "# display(dataset_prepro)"
   ]
  },
  {
   "cell_type": "markdown",
   "metadata": {},
   "source": [
    "<br>\n",
    "\n",
    "### 7: Export to CSV <a class=\"anchor\" id=\"chapter7\"></a>"
   ]
  },
  {
   "cell_type": "code",
   "execution_count": null,
   "metadata": {},
   "outputs": [],
   "source": [
    "# dataset_prepro.to_csv(os.path.join('out', 'truefake.csv'), index=False)"
   ]
  }
 ],
 "metadata": {
  "kernelspec": {
   "display_name": "thesis_notebook",
   "language": "python",
   "name": "thesis_notebook"
  },
  "language_info": {
   "codemirror_mode": {
    "name": "ipython",
    "version": 3
   },
   "file_extension": ".py",
   "mimetype": "text/x-python",
   "name": "python",
   "nbconvert_exporter": "python",
   "pygments_lexer": "ipython3",
   "version": "3.8.6"
  }
 },
 "nbformat": 4,
 "nbformat_minor": 4
}
