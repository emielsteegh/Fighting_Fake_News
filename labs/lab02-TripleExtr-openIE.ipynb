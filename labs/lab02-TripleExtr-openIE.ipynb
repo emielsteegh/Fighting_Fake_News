{
 "cells": [
  {
   "cell_type": "markdown",
   "metadata": {},
   "source": [
    "# Triple Extraction using stanford's OpenIE"
   ]
  },
  {
   "cell_type": "code",
   "execution_count": 17,
   "metadata": {},
   "outputs": [
    {
     "name": "stdout",
     "output_type": "stream",
     "text": [
      "imports done\n"
     ]
    }
   ],
   "source": [
    "from openie import StanfordOpenIE # first get torch from pytorch.org/get-started/locally\n",
    "\n",
    "import os\n",
    "\n",
    "import networkx as nx\n",
    "import matplotlib.pyplot as plt\n",
    "from IPython.display import Image\n",
    "from IPython.display import SVG\n",
    "print('imports done')"
   ]
  },
  {
   "cell_type": "code",
   "execution_count": 2,
   "metadata": {},
   "outputs": [],
   "source": [
    "new_keys = {'subject':'S', 'relation':'P', 'object':'O'}\n",
    "def change_triple_keys(triple):\n",
    "    return dict((new_keys[key], value) for (key, value) in triple.items())"
   ]
  },
  {
   "cell_type": "code",
   "execution_count": 39,
   "metadata": {},
   "outputs": [],
   "source": [
    "def generate_text_graph(triples: dict = None, svg_filename: str = 'out/graph.svg'):\n",
    "    graph = nx.MultiDiGraph()\n",
    "    triple_count = len(triples)\n",
    "    for idx, sor in enumerate(triples):\n",
    "        if idx%round(triple_count/10) == 0:\n",
    "            print(idx,\" \",sor)\n",
    "        graph.add_edge(sor['subject'], sor['object'], label=sor['relation'])\n",
    "\n",
    "    print(graph)\n",
    "\n",
    "    pos=nx.spring_layout(graph)\n",
    "\n",
    "    p=nx.drawing.nx_pydot.to_pydot(graph)\n",
    "    p.write_svg(svg_filename)\n",
    "    return svg_filename"
   ]
  },
  {
   "cell_type": "code",
   "execution_count": 4,
   "metadata": {},
   "outputs": [
    {
     "name": "stdout",
     "output_type": "stream",
     "text": [
      "\n",
      "__ The corona vaccine contains dangerous chemicals.\n",
      "Starting server with command: java -Xmx8G -cp C:\\Users\\emiel\\stanfordnlp_resources\\stanford-corenlp-full-2018-10-05/* edu.stanford.nlp.pipeline.StanfordCoreNLPServer -port 9000 -timeout 60000 -threads 5 -maxCharLength 100000 -quiet True -serverProperties corenlp_server-518c64b3d6e0404e.props -preload openie\n",
      "|- {'S': 'corona vaccine', 'P': 'contains', 'O': 'chemicals'}\n",
      "|- {'S': 'corona vaccine', 'P': 'contains', 'O': 'dangerous chemicals'}\n",
      "\n",
      "__ The corona vaccine contains only safe ingredients and is harmless.\n",
      "|- {'S': 'corona vaccine', 'P': 'contains', 'O': 'safe ingredients'}\n",
      "|- {'S': 'corona vaccine', 'P': 'contains', 'O': 'ingredients'}\n",
      "|- {'S': 'corona vaccine', 'P': 'contains', 'O': 'only ingredients'}\n",
      "|- {'S': 'corona vaccine', 'P': 'contains', 'O': 'only safe ingredients'}\n",
      "\n",
      "__ The corona vaccine contains a compound called Formaldehyde.\n",
      "|- {'S': 'compound', 'P': 'called', 'O': 'Formaldehyde'}\n"
     ]
    }
   ],
   "source": [
    "sample_sentences = [\"The corona vaccine contains dangerous chemicals\",\n",
    "                    \"The corona vaccine contains only safe ingredients and is harmless\",\n",
    "                    \"The corona vaccine contains a compound called Formaldehyde\"]\n",
    "\n",
    "with StanfordOpenIE() as client:\n",
    "    for sentence in sample_sentences:\n",
    "        print('\\n__ %s.' % sentence)\n",
    "        for triple in client.annotate(sentence):\n",
    "            print('|-', change_triple_keys(triple))"
   ]
  },
  {
   "cell_type": "code",
   "execution_count": 5,
   "metadata": {},
   "outputs": [
    {
     "name": "stdout",
     "output_type": "stream",
     "text": [
      "Starting server with command: java -Xmx8G -cp C:\\Users\\emiel\\stanfordnlp_resources\\stanford-corenlp-full-2018-10-05/* edu.stanford.nlp.pipeline.StanfordCoreNLPServer -port 9000 -timeout 60000 -threads 5 -maxCharLength 100000 -quiet True -serverProperties corenlp_server-3c94889c679d4596.props -preload openie\n",
      "\n",
      " Developing a vaccine is a long-term process  It is difficult to say when there will be an effective vaccine against the novel coronavirus.  It takes a long time to develop a vaccine for a new infectious disease, usually as long as 5 to 10 years. Every effort is being made to accelerate development of a vaccine for COVID-19. More than 100 vaccines are in development  A total of more than 100 different vaccines for SARS-CoV-2 are under development. A small number of them have reached the stage of  \n",
      "\n",
      "Found 429 triples in the corpus.\n"
     ]
    }
   ],
   "source": [
    "txt_path = os.path.join('sources', 'article_corona_vaccine.txt')\n",
    "extracted_triples = list()\n",
    "with StanfordOpenIE() as client:\n",
    "    with open(txt_path, 'r', encoding='utf-8') as r:\n",
    "        text = r.read().replace('\\n', ' ').replace('\\r', '')\n",
    "        extracted_triples = client.annotate(text, simple_format=True)\n",
    "        print('\\n',text[:500:],'\\n', ) # to check the formatting\n",
    "        print('Found %s triples in the corpus.' % len(extracted_triples))"
   ]
  },
  {
   "cell_type": "code",
   "execution_count": 41,
   "metadata": {
    "pycharm": {
     "name": "#%%\n"
    }
   },
   "outputs": [
    {
     "name": "stdout",
     "output_type": "stream",
     "text": [
      "0   {'subject': 'It', 'relation': 'be', 'object': 'when vaccine against novel coronavirus'}\n",
      "43   {'subject': 'phases', 'relation': 'have', 'object': 'Only when have successfully completed'}\n",
      "86   {'subject': 'we', 'relation': 'are protected After', 'object': 'this'}\n",
      "129   {'subject': 'S protein', 'relation': 'is attached to', 'object': 'exterior of virus'}\n",
      "172   {'subject': 'RNA vaccines', 'relation': 'add', 'object': 'piece to immune cells in our body'}\n",
      "215   {'subject': 'RNA vaccines', 'relation': 'add', 'object': 'piece of material to specific immune cells in our body'}\n",
      "258   {'subject': 'immune cells', 'relation': 'are', 'object': 'why also referred to as cells'}\n",
      "301   {'subject': 'lymphocytes', 'relation': 'neutralise', 'object': 'bacteria'}\n",
      "344   {'subject': 'category', 'relation': 'are', 'object': 'adenoviruses'}\n",
      "387   {'subject': 'Royal Netherlands Society', 'relation': 'keep track on', 'object': 'basis of progress on development in trials'}\n",
      "\n",
      "done\n"
     ]
    }
   ],
   "source": [
    "SVG(generate_text_graph(extracted_triples))\n",
    "print('done')"
   ]
  }
 ],
 "metadata": {
  "kernelspec": {
   "name": "thesis_notebook",
   "language": "python",
   "display_name": "thesis_notebook"
  },
  "language_info": {
   "codemirror_mode": {
    "name": "ipython",
    "version": 3
   },
   "file_extension": ".py",
   "mimetype": "text/x-python",
   "name": "python",
   "nbconvert_exporter": "python",
   "pygments_lexer": "ipython3",
   "version": "3.8.6"
  }
 },
 "nbformat": 4,
 "nbformat_minor": 4
}