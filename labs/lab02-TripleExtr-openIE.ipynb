{
 "cells": [
  {
   "cell_type": "markdown",
   "metadata": {},
   "source": [
    "# Triple Extraction using stanford's OpenIE"
   ]
  },
  {
   "cell_type": "code",
   "execution_count": null,
   "metadata": {},
   "outputs": [],
   "source": [
    "from openie import StanfordOpenIE # first get torch from pytorch.org/get-started/locally\n",
    "import graphviz\n",
    "\n",
    "import os\n",
    "import tempfile\n",
    "from subprocess import Popen\n",
    "from sys import stderr\n",
    "print('imports done')"
   ]
  },
  {
   "cell_type": "code",
   "execution_count": null,
   "metadata": {},
   "outputs": [],
   "source": [
    "new_keys = {'subject':'S', 'relation':'P', 'object':'O'}\n",
    "def change_triple_keys(triple):\n",
    "    return dict((new_keys[key], value) for (key, value) in triple.items())"
   ]
  },
  {
   "cell_type": "code",
   "execution_count": null,
   "metadata": {},
   "outputs": [],
   "source": [
    "def generate_text_graph(triples: dict = None, png_filename: str = './out/graph.png'):\n",
    "    \n",
    "    graph = list()\n",
    "    graph.append('digraph {')\n",
    "    for er in triples:\n",
    "        graph.append('\"{}\" -> \"{}\" [ label=\"{}\" ];'.format(er['subject'].lower(), er['object'].lower(), er['relation'].lower()))\n",
    "    graph.append('}')\n",
    "    \n",
    "    output_dir = os.path.join('.', os.path.dirname(png_filename))\n",
    "    if not os.path.exists(output_dir):\n",
    "        os.makedirs(output_dir)\n",
    "\n",
    "    out_dot = os.path.join(tempfile.gettempdir(), 'graph.dot')\n",
    "    with open(out_dot, 'w') as output_file:\n",
    "        output_file.writelines(graph)\n",
    "\n",
    "    command = 'dot -Tpng {} -o {}'.format(out_dot, png_filename)\n",
    "    dot_process = Popen(command, stdout=stderr, shell=True)\n",
    "    dot_process.wait()\n",
    "    assert not dot_process.returncode, 'ERROR: Call to dot exited with a non-zero code status.'\n",
    "    "
   ]
  },
  {
   "cell_type": "code",
   "execution_count": null,
   "metadata": {},
   "outputs": [],
   "source": [
    "sample_sentences = [\"The corona vaccine contains dangerous chemicals\",\n",
    "                    \"The corona vaccine contains only safe ingredients and is harmless\",\n",
    "                    \"The corona vaccine contains a compound called Formaldehyde\"]\n",
    "\n",
    "with StanfordOpenIE() as client:\n",
    "    for sentence in sample_sentences:\n",
    "        print('\\n__ %s.' % sentence)\n",
    "        for triple in client.annotate(sentence):\n",
    "            print('|-', change_triple_keys(triple))"
   ]
  },
  {
   "cell_type": "code",
   "execution_count": null,
   "metadata": {},
   "outputs": [],
   "source": [
    "txt_path = os.path.join('sources', 'article_corona_vaccine.txt')\n",
    "extracted_triples = list()\n",
    "with StanfordOpenIE() as client:\n",
    "    with open(txt_path, 'r', encoding='utf-8') as r:\n",
    "        text = r.read().replace('\\n', ' ').replace('\\r', '')\n",
    "        extracted_triples = client.annotate(text, simple_format=True)\n",
    "        print('\\n',text[:500:],'\\n', ) # to check the formatting\n",
    "        print('Found %s triples in the corpus.' % len(extracted_triples))"
   ]
  },
  {
   "cell_type": "code",
   "execution_count": null,
   "metadata": {},
   "outputs": [],
   "source": [
    "graph_image = 'graph.png'\n",
    "#generate_text_graph(extracted_triples, graph_image)"
   ]
  },
  {
   "cell_type": "code",
   "execution_count": null,
   "metadata": {},
   "outputs": [],
   "source": [
    "with StanfordOpenIE() as client:\n",
    "    text = \"Python is a programming language designed for readability\"\n",
    "    graph_image = 'graph.png'\n",
    "    #client.generate_graphviz_graph(text, graph_image)"
   ]
  },
  {
   "cell_type": "code",
   "execution_count": null,
   "metadata": {},
   "outputs": [],
   "source": [
    "dot = graphviz.Digraph(comment = 'testgraph')\n",
    "dot.edge('A','B')\n",
    "dot.view()"
   ]
  },
  {
   "cell_type": "markdown",
   "metadata": {},
   "source": [
    "### TODO Properly install graphviz please"
   ]
  },
  {
   "cell_type": "code",
   "execution_count": null,
   "metadata": {},
   "outputs": [],
   "source": []
  }
 ],
 "metadata": {
  "kernelspec": {
   "display_name": "fakenewsthesis",
   "language": "python",
   "name": "fakenewsthesis"
  },
  "language_info": {
   "codemirror_mode": {
    "name": "ipython",
    "version": 3
   },
   "file_extension": ".py",
   "mimetype": "text/x-python",
   "name": "python",
   "nbconvert_exporter": "python",
   "pygments_lexer": "ipython3",
   "version": "3.8.6"
  }
 },
 "nbformat": 4,
 "nbformat_minor": 4
}