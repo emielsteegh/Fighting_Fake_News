{
 "cells": [
  {
   "cell_type": "markdown",
   "metadata": {},
   "source": [
    "# Triple Extraction using stanford's OpenIE"
   ]
  },
  {
   "cell_type": "code",
   "execution_count": 1,
   "metadata": {},
   "outputs": [],
   "source": [
    "from openie import StanfordOpenIE # first get torch from pytorch.org/get-started/locally\n",
    "import graphviz\n",
    "\n",
    "import os\n",
    "import tempfile\n",
    "from subprocess import Popen\n",
    "from sys import stderr"
   ]
  },
  {
   "cell_type": "code",
   "execution_count": 2,
   "metadata": {},
   "outputs": [],
   "source": [
    "new_keys = {'subject':'S', 'relation':'P', 'object':'O'}\n",
    "def change_triple_keys(triple):\n",
    "    return dict((new_keys[key], value) for (key, value) in triple.items())"
   ]
  },
  {
   "cell_type": "code",
   "execution_count": 3,
   "metadata": {},
   "outputs": [],
   "source": [
    "def generate_text_graph(triples: dict = None, png_filename: str = './out/graph.png'):\n",
    "    \n",
    "    graph = list()\n",
    "    graph.append('digraph {')\n",
    "    for er in triples:\n",
    "        graph.append('\"{}\" -> \"{}\" [ label=\"{}\" ];'.format(er['subject'].lower(), er['object'].lower(), er['relation'].lower()))\n",
    "    graph.append('}')\n",
    "    \n",
    "    output_dir = os.path.join('.', os.path.dirname(png_filename))\n",
    "    if not os.path.exists(output_dir):\n",
    "        os.makedirs(output_dir)\n",
    "\n",
    "    out_dot = os.path.join(tempfile.gettempdir(), 'graph.dot')\n",
    "    with open(out_dot, 'w') as output_file:\n",
    "        output_file.writelines(graph)\n",
    "\n",
    "    command = 'dot -Tpng {} -o {}'.format(out_dot, png_filename)\n",
    "    dot_process = Popen(command, stdout=stderr, shell=True)\n",
    "    dot_process.wait()\n",
    "    assert not dot_process.returncode, 'ERROR: Call to dot exited with a non-zero code status.'\n",
    "    "
   ]
  },
  {
   "cell_type": "code",
   "execution_count": 4,
   "metadata": {},
   "outputs": [
    {
     "name": "stdout",
     "output_type": "stream",
     "text": [
      "\n",
      "__ The corona vaccine contains dangerous chemicals.\n",
      "Starting server with command: java -Xmx8G -cp C:\\Users\\emiel\\stanfordnlp_resources\\stanford-corenlp-full-2018-10-05/* edu.stanford.nlp.pipeline.StanfordCoreNLPServer -port 9000 -timeout 60000 -threads 5 -maxCharLength 100000 -quiet True -serverProperties corenlp_server-b20656fe8d24439c.props -preload openie\n",
      "|- {'S': 'corona vaccine', 'P': 'contains', 'O': 'chemicals'}\n",
      "|- {'S': 'corona vaccine', 'P': 'contains', 'O': 'dangerous chemicals'}\n",
      "\n",
      "__ The corona vaccine contains only safe ingredients and is harmless.\n",
      "|- {'S': 'corona vaccine', 'P': 'contains', 'O': 'safe ingredients'}\n",
      "|- {'S': 'corona vaccine', 'P': 'contains', 'O': 'ingredients'}\n",
      "|- {'S': 'corona vaccine', 'P': 'contains', 'O': 'only ingredients'}\n",
      "|- {'S': 'corona vaccine', 'P': 'contains', 'O': 'only safe ingredients'}\n",
      "\n",
      "__ The corona vaccine contains a compound called Formaldehyde.\n",
      "|- {'S': 'compound', 'P': 'called', 'O': 'Formaldehyde'}\n"
     ]
    }
   ],
   "source": [
    "sample_sentences = [\"The corona vaccine contains dangerous chemicals\",\n",
    "                    \"The corona vaccine contains only safe ingredients and is harmless\",\n",
    "                    \"The corona vaccine contains a compound called Formaldehyde\"]\n",
    "\n",
    "with StanfordOpenIE() as client:\n",
    "    for sentence in sample_sentences:\n",
    "        print('\\n__ %s.' % sentence)\n",
    "        for triple in client.annotate(sentence):\n",
    "            print('|-', change_triple_keys(triple))"
   ]
  },
  {
   "cell_type": "code",
   "execution_count": 5,
   "metadata": {},
   "outputs": [
    {
     "name": "stdout",
     "output_type": "stream",
     "text": [
      "Starting server with command: java -Xmx8G -cp C:\\Users\\emiel\\stanfordnlp_resources\\stanford-corenlp-full-2018-10-05/* edu.stanford.nlp.pipeline.StanfordCoreNLPServer -port 9000 -timeout 60000 -threads 5 -maxCharLength 100000 -quiet True -serverProperties corenlp_server-3e4ea2dade22457d.props -preload openie\n",
      "\n",
      " Developing a vaccine is a long-term process  It is difficult to say when there will be an effective vaccine against the novel coronavirus.  It takes a long time to develop a vaccine for a new infectious disease, usually as long as 5 to 10 years. Every effort is being made to accelerate development of a vaccine for COVID-19. More than 100 vaccines are in development  A total of more than 100 different vaccines for SARS-CoV-2 are under development. A small number of them have reached the stage of  \n",
      "\n",
      "Found 429 triples in the corpus.\n"
     ]
    }
   ],
   "source": [
    "txt_path = os.path.join('sources', 'article_corona_vaccine.txt')\n",
    "extracted_triples = list()\n",
    "with StanfordOpenIE() as client:\n",
    "    with open(txt_path, 'r', encoding='utf-8') as r:\n",
    "        text = r.read().replace('\\n', ' ').replace('\\r', '')\n",
    "        extracted_triples = client.annotate(text, simple_format=True)\n",
    "        print('\\n',text[:500:],'\\n', ) # to check the formatting\n",
    "        print('Found %s triples in the corpus.' % len(extracted_triples))"
   ]
  },
  {
   "cell_type": "code",
   "execution_count": 6,
   "metadata": {},
   "outputs": [],
   "source": [
    "graph_image = 'graph.png'\n",
    "#generate_text_graph(extracted_triples, graph_image)"
   ]
  },
  {
   "cell_type": "code",
   "execution_count": 7,
   "metadata": {},
   "outputs": [],
   "source": [
    "with StanfordOpenIE() as client:\n",
    "    text = \"Python is a programming language designed for readability\"\n",
    "    graph_image = 'graph.png'\n",
    "    #client.generate_graphviz_graph(text, graph_image)"
   ]
  },
  {
   "cell_type": "code",
   "execution_count": 8,
   "metadata": {},
   "outputs": [
    {
     "ename": "ExecutableNotFound",
     "evalue": "failed to execute ['dot', '-Tpdf', '-O', 'Digraph.gv'], make sure the Graphviz executables are on your systems' PATH",
     "output_type": "error",
     "traceback": [
      "\u001B[1;31m---------------------------------------------------------------------------\u001B[0m",
      "\u001B[1;31mFileNotFoundError\u001B[0m                         Traceback (most recent call last)",
      "\u001B[1;32m~\\.virtualenvs\\Thesis_Notebook-tvt70hiV\\lib\\site-packages\\graphviz\\backend.py\u001B[0m in \u001B[0;36mrun\u001B[1;34m(cmd, input, capture_output, check, encoding, quiet, **kwargs)\u001B[0m\n\u001B[0;32m    163\u001B[0m     \u001B[1;32mtry\u001B[0m\u001B[1;33m:\u001B[0m\u001B[1;33m\u001B[0m\u001B[1;33m\u001B[0m\u001B[0m\n\u001B[1;32m--> 164\u001B[1;33m         \u001B[0mproc\u001B[0m \u001B[1;33m=\u001B[0m \u001B[0msubprocess\u001B[0m\u001B[1;33m.\u001B[0m\u001B[0mPopen\u001B[0m\u001B[1;33m(\u001B[0m\u001B[0mcmd\u001B[0m\u001B[1;33m,\u001B[0m \u001B[0mstartupinfo\u001B[0m\u001B[1;33m=\u001B[0m\u001B[0mget_startupinfo\u001B[0m\u001B[1;33m(\u001B[0m\u001B[1;33m)\u001B[0m\u001B[1;33m,\u001B[0m \u001B[1;33m**\u001B[0m\u001B[0mkwargs\u001B[0m\u001B[1;33m)\u001B[0m\u001B[1;33m\u001B[0m\u001B[1;33m\u001B[0m\u001B[0m\n\u001B[0m\u001B[0;32m    165\u001B[0m     \u001B[1;32mexcept\u001B[0m \u001B[0mOSError\u001B[0m \u001B[1;32mas\u001B[0m \u001B[0me\u001B[0m\u001B[1;33m:\u001B[0m\u001B[1;33m\u001B[0m\u001B[1;33m\u001B[0m\u001B[0m\n",
      "\u001B[1;32m~\\AppData\\Local\\Programs\\Python\\Python38\\lib\\subprocess.py\u001B[0m in \u001B[0;36m__init__\u001B[1;34m(self, args, bufsize, executable, stdin, stdout, stderr, preexec_fn, close_fds, shell, cwd, env, universal_newlines, startupinfo, creationflags, restore_signals, start_new_session, pass_fds, encoding, errors, text)\u001B[0m\n\u001B[0;32m    853\u001B[0m \u001B[1;33m\u001B[0m\u001B[0m\n\u001B[1;32m--> 854\u001B[1;33m             self._execute_child(args, executable, preexec_fn, close_fds,\n\u001B[0m\u001B[0;32m    855\u001B[0m                                 \u001B[0mpass_fds\u001B[0m\u001B[1;33m,\u001B[0m \u001B[0mcwd\u001B[0m\u001B[1;33m,\u001B[0m \u001B[0menv\u001B[0m\u001B[1;33m,\u001B[0m\u001B[1;33m\u001B[0m\u001B[1;33m\u001B[0m\u001B[0m\n",
      "\u001B[1;32m~\\AppData\\Local\\Programs\\Python\\Python38\\lib\\subprocess.py\u001B[0m in \u001B[0;36m_execute_child\u001B[1;34m(self, args, executable, preexec_fn, close_fds, pass_fds, cwd, env, startupinfo, creationflags, shell, p2cread, p2cwrite, c2pread, c2pwrite, errread, errwrite, unused_restore_signals, unused_start_new_session)\u001B[0m\n\u001B[0;32m   1306\u001B[0m             \u001B[1;32mtry\u001B[0m\u001B[1;33m:\u001B[0m\u001B[1;33m\u001B[0m\u001B[1;33m\u001B[0m\u001B[0m\n\u001B[1;32m-> 1307\u001B[1;33m                 hp, ht, pid, tid = _winapi.CreateProcess(executable, args,\n\u001B[0m\u001B[0;32m   1308\u001B[0m                                          \u001B[1;31m# no special security\u001B[0m\u001B[1;33m\u001B[0m\u001B[1;33m\u001B[0m\u001B[1;33m\u001B[0m\u001B[0m\n",
      "\u001B[1;31mFileNotFoundError\u001B[0m: [WinError 2] The system cannot find the file specified",
      "\nDuring handling of the above exception, another exception occurred:\n",
      "\u001B[1;31mExecutableNotFound\u001B[0m                        Traceback (most recent call last)",
      "\u001B[1;32m<ipython-input-8-aef83eb6a4bc>\u001B[0m in \u001B[0;36m<module>\u001B[1;34m\u001B[0m\n\u001B[0;32m      1\u001B[0m \u001B[0mdot\u001B[0m \u001B[1;33m=\u001B[0m \u001B[0mgraphviz\u001B[0m\u001B[1;33m.\u001B[0m\u001B[0mDigraph\u001B[0m\u001B[1;33m(\u001B[0m\u001B[0mcomment\u001B[0m \u001B[1;33m=\u001B[0m \u001B[1;34m'testgraph'\u001B[0m\u001B[1;33m)\u001B[0m\u001B[1;33m\u001B[0m\u001B[1;33m\u001B[0m\u001B[0m\n\u001B[0;32m      2\u001B[0m \u001B[0mdot\u001B[0m\u001B[1;33m.\u001B[0m\u001B[0medge\u001B[0m\u001B[1;33m(\u001B[0m\u001B[1;34m'A'\u001B[0m\u001B[1;33m,\u001B[0m\u001B[1;34m'B'\u001B[0m\u001B[1;33m)\u001B[0m\u001B[1;33m\u001B[0m\u001B[1;33m\u001B[0m\u001B[0m\n\u001B[1;32m----> 3\u001B[1;33m \u001B[0mdot\u001B[0m\u001B[1;33m.\u001B[0m\u001B[0mview\u001B[0m\u001B[1;33m(\u001B[0m\u001B[1;33m)\u001B[0m\u001B[1;33m\u001B[0m\u001B[1;33m\u001B[0m\u001B[0m\n\u001B[0m",
      "\u001B[1;32m~\\.virtualenvs\\Thesis_Notebook-tvt70hiV\\lib\\site-packages\\graphviz\\files.py\u001B[0m in \u001B[0;36mview\u001B[1;34m(self, filename, directory, cleanup, quiet, quiet_view)\u001B[0m\n\u001B[0;32m    242\u001B[0m             \u001B[0mto\u001B[0m \u001B[0mretrieve\u001B[0m \u001B[0mthe\u001B[0m \u001B[0mapplication\u001B[0m\u001B[0;31m'\u001B[0m\u001B[0ms\u001B[0m \u001B[0mexit\u001B[0m \u001B[0mstatus\u001B[0m\u001B[1;33m.\u001B[0m\u001B[1;33m\u001B[0m\u001B[1;33m\u001B[0m\u001B[0m\n\u001B[0;32m    243\u001B[0m         \"\"\"\n\u001B[1;32m--> 244\u001B[1;33m         return self.render(filename=filename, directory=directory,\n\u001B[0m\u001B[0;32m    245\u001B[0m                            \u001B[0mview\u001B[0m\u001B[1;33m=\u001B[0m\u001B[1;32mTrue\u001B[0m\u001B[1;33m,\u001B[0m \u001B[0mcleanup\u001B[0m\u001B[1;33m=\u001B[0m\u001B[0mcleanup\u001B[0m\u001B[1;33m,\u001B[0m\u001B[1;33m\u001B[0m\u001B[1;33m\u001B[0m\u001B[0m\n\u001B[0;32m    246\u001B[0m                            quiet=quiet, quiet_view=quiet_view)\n",
      "\u001B[1;32m~\\.virtualenvs\\Thesis_Notebook-tvt70hiV\\lib\\site-packages\\graphviz\\files.py\u001B[0m in \u001B[0;36mrender\u001B[1;34m(self, filename, directory, view, cleanup, format, renderer, formatter, quiet, quiet_view)\u001B[0m\n\u001B[0;32m    205\u001B[0m             \u001B[0mformat\u001B[0m \u001B[1;33m=\u001B[0m \u001B[0mself\u001B[0m\u001B[1;33m.\u001B[0m\u001B[0m_format\u001B[0m\u001B[1;33m\u001B[0m\u001B[1;33m\u001B[0m\u001B[0m\n\u001B[0;32m    206\u001B[0m \u001B[1;33m\u001B[0m\u001B[0m\n\u001B[1;32m--> 207\u001B[1;33m         rendered = backend.render(self._engine, format, filepath,\n\u001B[0m\u001B[0;32m    208\u001B[0m                                   \u001B[0mrenderer\u001B[0m\u001B[1;33m=\u001B[0m\u001B[0mrenderer\u001B[0m\u001B[1;33m,\u001B[0m \u001B[0mformatter\u001B[0m\u001B[1;33m=\u001B[0m\u001B[0mformatter\u001B[0m\u001B[1;33m,\u001B[0m\u001B[1;33m\u001B[0m\u001B[1;33m\u001B[0m\u001B[0m\n\u001B[0;32m    209\u001B[0m                                   quiet=quiet)\n",
      "\u001B[1;32m~\\.virtualenvs\\Thesis_Notebook-tvt70hiV\\lib\\site-packages\\graphviz\\backend.py\u001B[0m in \u001B[0;36mrender\u001B[1;34m(***failed resolving arguments***)\u001B[0m\n\u001B[0;32m    219\u001B[0m         \u001B[0mcwd\u001B[0m \u001B[1;33m=\u001B[0m \u001B[1;32mNone\u001B[0m\u001B[1;33m\u001B[0m\u001B[1;33m\u001B[0m\u001B[0m\n\u001B[0;32m    220\u001B[0m \u001B[1;33m\u001B[0m\u001B[0m\n\u001B[1;32m--> 221\u001B[1;33m     \u001B[0mrun\u001B[0m\u001B[1;33m(\u001B[0m\u001B[0mcmd\u001B[0m\u001B[1;33m,\u001B[0m \u001B[0mcapture_output\u001B[0m\u001B[1;33m=\u001B[0m\u001B[1;32mTrue\u001B[0m\u001B[1;33m,\u001B[0m \u001B[0mcwd\u001B[0m\u001B[1;33m=\u001B[0m\u001B[0mcwd\u001B[0m\u001B[1;33m,\u001B[0m \u001B[0mcheck\u001B[0m\u001B[1;33m=\u001B[0m\u001B[1;32mTrue\u001B[0m\u001B[1;33m,\u001B[0m \u001B[0mquiet\u001B[0m\u001B[1;33m=\u001B[0m\u001B[0mquiet\u001B[0m\u001B[1;33m)\u001B[0m\u001B[1;33m\u001B[0m\u001B[1;33m\u001B[0m\u001B[0m\n\u001B[0m\u001B[0;32m    222\u001B[0m     \u001B[1;32mreturn\u001B[0m \u001B[0mrendered\u001B[0m\u001B[1;33m\u001B[0m\u001B[1;33m\u001B[0m\u001B[0m\n\u001B[0;32m    223\u001B[0m \u001B[1;33m\u001B[0m\u001B[0m\n",
      "\u001B[1;32m~\\.virtualenvs\\Thesis_Notebook-tvt70hiV\\lib\\site-packages\\graphviz\\backend.py\u001B[0m in \u001B[0;36mrun\u001B[1;34m(cmd, input, capture_output, check, encoding, quiet, **kwargs)\u001B[0m\n\u001B[0;32m    165\u001B[0m     \u001B[1;32mexcept\u001B[0m \u001B[0mOSError\u001B[0m \u001B[1;32mas\u001B[0m \u001B[0me\u001B[0m\u001B[1;33m:\u001B[0m\u001B[1;33m\u001B[0m\u001B[1;33m\u001B[0m\u001B[0m\n\u001B[0;32m    166\u001B[0m         \u001B[1;32mif\u001B[0m \u001B[0me\u001B[0m\u001B[1;33m.\u001B[0m\u001B[0merrno\u001B[0m \u001B[1;33m==\u001B[0m \u001B[0merrno\u001B[0m\u001B[1;33m.\u001B[0m\u001B[0mENOENT\u001B[0m\u001B[1;33m:\u001B[0m\u001B[1;33m\u001B[0m\u001B[1;33m\u001B[0m\u001B[0m\n\u001B[1;32m--> 167\u001B[1;33m             \u001B[1;32mraise\u001B[0m \u001B[0mExecutableNotFound\u001B[0m\u001B[1;33m(\u001B[0m\u001B[0mcmd\u001B[0m\u001B[1;33m)\u001B[0m\u001B[1;33m\u001B[0m\u001B[1;33m\u001B[0m\u001B[0m\n\u001B[0m\u001B[0;32m    168\u001B[0m         \u001B[1;32melse\u001B[0m\u001B[1;33m:\u001B[0m\u001B[1;33m\u001B[0m\u001B[1;33m\u001B[0m\u001B[0m\n\u001B[0;32m    169\u001B[0m             \u001B[1;32mraise\u001B[0m\u001B[1;33m\u001B[0m\u001B[1;33m\u001B[0m\u001B[0m\n",
      "\u001B[1;31mExecutableNotFound\u001B[0m: failed to execute ['dot', '-Tpdf', '-O', 'Digraph.gv'], make sure the Graphviz executables are on your systems' PATH"
     ]
    }
   ],
   "source": [
    "dot = graphviz.Digraph(comment = 'testgraph')\n",
    "dot.edge('A','B')\n",
    "dot.view()"
   ]
  },
  {
   "cell_type": "markdown",
   "metadata": {},
   "source": [
    "### TODO Properly install graphviz please"
   ]
  },
  {
   "cell_type": "code",
   "execution_count": null,
   "metadata": {},
   "outputs": [],
   "source": []
  }
 ],
 "metadata": {
  "kernelspec": {
   "display_name": "fakenewsthesis",
   "language": "python",
   "name": "fakenewsthesis"
  },
  "language_info": {
   "codemirror_mode": {
    "name": "ipython",
    "version": 3
   },
   "file_extension": ".py",
   "mimetype": "text/x-python",
   "name": "python",
   "nbconvert_exporter": "python",
   "pygments_lexer": "ipython3",
   "version": "3.8.6"
  }
 },
 "nbformat": 4,
 "nbformat_minor": 4
}