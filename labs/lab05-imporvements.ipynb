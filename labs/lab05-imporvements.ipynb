{
 "cells": [
  {
   "cell_type": "code",
   "execution_count": 1,
   "metadata": {},
   "outputs": [],
   "source": [
    "import tensorflow as tf\n",
    "from tensorflow import keras\n",
    "from tensorflow.keras import layers\n",
    "\n",
    "from keras.models import Sequential\n",
    "from keras.layers import LSTM, Dense, Dropout, Masking, Embedding"
   ]
  },
  {
   "cell_type": "code",
   "execution_count": 2,
   "metadata": {},
   "outputs": [
    {
     "name": "stderr",
     "output_type": "stream",
     "text": [
      "[nltk_data] Downloading package punkt to\n",
      "[nltk_data]     C:\\Users\\emiel\\AppData\\Roaming\\nltk_data...\n",
      "[nltk_data]   Package punkt is already up-to-date!\n",
      "[nltk_data] Downloading package vader_lexicon to\n",
      "[nltk_data]     C:\\Users\\emiel\\AppData\\Roaming\\nltk_data...\n",
      "[nltk_data]   Package vader_lexicon is already up-to-date!\n"
     ]
    }
   ],
   "source": [
    "# imports\n",
    "import os\n",
    "import pandas as pd\n",
    "import numpy as np\n",
    "\n",
    "import random\n",
    "\n",
    "from nltk.sentiment.vader import SentimentIntensityAnalyzer as SIA\n",
    "sia = SIA()\n",
    "\n",
    "import nltk\n",
    "#file for punkt splitter\n",
    "nltk.download('punkt');\n",
    "#file for vader sentiment\n",
    "nltk.download('vader_lexicon');\n",
    "\n",
    "import matplotlib.pyplot as plt\n",
    "plt.rcParams[\"figure.figsize\"]=20,20\n",
    "%matplotlib inline"
   ]
  },
  {
   "cell_type": "markdown",
   "metadata": {},
   "source": [
    "<br><br>\n",
    "\n",
    "## Data loading/collection"
   ]
  },
  {
   "cell_type": "code",
   "execution_count": 3,
   "metadata": {},
   "outputs": [],
   "source": [
    "series_len = 100\n",
    "mask_value = -10\n",
    "max_len = 0\n",
    "\n",
    "def text_to_sentiments(text):\n",
    "    sentences = nltk.tokenize.sent_tokenize(text)\n",
    "    scores = [ sia.polarity_scores(s)['compound'] for s in sentences] #list of compound score per sentence\n",
    "    \n",
    "    if len(scores) < series_len:\n",
    "        t  = series_len - len(scores)\n",
    "        scores = np.pad(scores, (t, 0), mode='constant', constant_values=mask_value)\n",
    "        scores = scores.reshape((series_len, 1))\n",
    "    else:\n",
    "        scores = np.array(scores[(-1*series_len):])\n",
    "        scores = scores.reshape((series_len, 1))\n",
    "        \n",
    "    return scores"
   ]
  },
  {
   "cell_type": "code",
   "execution_count": 4,
   "metadata": {},
   "outputs": [
    {
     "name": "stdout",
     "output_type": "stream",
     "text": [
      "ERROR: Couldn't find data, will start building it now...\n"
     ]
    },
    {
     "data": {
      "text/html": [
       "<div>\n",
       "<style scoped>\n",
       "    .dataframe tbody tr th:only-of-type {\n",
       "        vertical-align: middle;\n",
       "    }\n",
       "\n",
       "    .dataframe tbody tr th {\n",
       "        vertical-align: top;\n",
       "    }\n",
       "\n",
       "    .dataframe thead th {\n",
       "        text-align: right;\n",
       "    }\n",
       "</style>\n",
       "<table border=\"1\" class=\"dataframe\">\n",
       "  <thead>\n",
       "    <tr style=\"text-align: right;\">\n",
       "      <th></th>\n",
       "      <th>scores</th>\n",
       "      <th>veracity</th>\n",
       "    </tr>\n",
       "  </thead>\n",
       "  <tbody>\n",
       "    <tr>\n",
       "      <th>0</th>\n",
       "      <td>[[-10.0], [-10.0], [-10.0], [-10.0], [-10.0], ...</td>\n",
       "      <td>1</td>\n",
       "    </tr>\n",
       "    <tr>\n",
       "      <th>1</th>\n",
       "      <td>[[-10.0], [-10.0], [-10.0], [-10.0], [-10.0], ...</td>\n",
       "      <td>1</td>\n",
       "    </tr>\n",
       "    <tr>\n",
       "      <th>2</th>\n",
       "      <td>[[-10.0], [-10.0], [-10.0], [-10.0], [-10.0], ...</td>\n",
       "      <td>1</td>\n",
       "    </tr>\n",
       "    <tr>\n",
       "      <th>3</th>\n",
       "      <td>[[-10.0], [-10.0], [-10.0], [-10.0], [-10.0], ...</td>\n",
       "      <td>1</td>\n",
       "    </tr>\n",
       "    <tr>\n",
       "      <th>4</th>\n",
       "      <td>[[-10.0], [-10.0], [-10.0], [-10.0], [-10.0], ...</td>\n",
       "      <td>1</td>\n",
       "    </tr>\n",
       "    <tr>\n",
       "      <th>...</th>\n",
       "      <td>...</td>\n",
       "      <td>...</td>\n",
       "    </tr>\n",
       "    <tr>\n",
       "      <th>44893</th>\n",
       "      <td>[[-10.0], [-10.0], [-10.0], [-10.0], [-10.0], ...</td>\n",
       "      <td>0</td>\n",
       "    </tr>\n",
       "    <tr>\n",
       "      <th>44894</th>\n",
       "      <td>[[-10.0], [-10.0], [-10.0], [-10.0], [-10.0], ...</td>\n",
       "      <td>0</td>\n",
       "    </tr>\n",
       "    <tr>\n",
       "      <th>44895</th>\n",
       "      <td>[[-0.0772], [-0.9646], [-0.9522], [0.4272], [0...</td>\n",
       "      <td>0</td>\n",
       "    </tr>\n",
       "    <tr>\n",
       "      <th>44896</th>\n",
       "      <td>[[-10.0], [-10.0], [-10.0], [-10.0], [-10.0], ...</td>\n",
       "      <td>0</td>\n",
       "    </tr>\n",
       "    <tr>\n",
       "      <th>44897</th>\n",
       "      <td>[[-10.0], [-10.0], [-10.0], [-10.0], [-10.0], ...</td>\n",
       "      <td>0</td>\n",
       "    </tr>\n",
       "  </tbody>\n",
       "</table>\n",
       "<p>44898 rows × 2 columns</p>\n",
       "</div>"
      ],
      "text/plain": [
       "                                                  scores  veracity\n",
       "0      [[-10.0], [-10.0], [-10.0], [-10.0], [-10.0], ...         1\n",
       "1      [[-10.0], [-10.0], [-10.0], [-10.0], [-10.0], ...         1\n",
       "2      [[-10.0], [-10.0], [-10.0], [-10.0], [-10.0], ...         1\n",
       "3      [[-10.0], [-10.0], [-10.0], [-10.0], [-10.0], ...         1\n",
       "4      [[-10.0], [-10.0], [-10.0], [-10.0], [-10.0], ...         1\n",
       "...                                                  ...       ...\n",
       "44893  [[-10.0], [-10.0], [-10.0], [-10.0], [-10.0], ...         0\n",
       "44894  [[-10.0], [-10.0], [-10.0], [-10.0], [-10.0], ...         0\n",
       "44895  [[-0.0772], [-0.9646], [-0.9522], [0.4272], [0...         0\n",
       "44896  [[-10.0], [-10.0], [-10.0], [-10.0], [-10.0], ...         0\n",
       "44897  [[-10.0], [-10.0], [-10.0], [-10.0], [-10.0], ...         0\n",
       "\n",
       "[44898 rows x 2 columns]"
      ]
     },
     "metadata": {},
     "output_type": "display_data"
    },
    {
     "name": "stdout",
     "output_type": "stream",
     "text": [
      "Wall time: 4min 43s\n"
     ]
    }
   ],
   "source": [
    "%%time\n",
    "\n",
    "df = None\n",
    "try:\n",
    "    with open(os.path.join('out', 'truefake_series.pickle'), 'rb') as f: df = pickle.load(f)\n",
    "    print('Succesfully loaded data')\n",
    "    \n",
    "except FileNotFoundError:\n",
    "    print('ERROR: Couldn\\'t find data, will start building it now...')\n",
    "    dataset_path_true = os.path.join(\"sources\", \"ISOT\", \"True.csv\")\n",
    "    dataset_path_fake = os.path.join(\"sources\", \"ISOT\", \"Fake.csv\")\n",
    "\n",
    "    dataset_load_true = pd.read_csv(dataset_path_true, encoding='utf-8') # make sure to use the right encoding\n",
    "    dataset_load_fake = pd.read_csv(dataset_path_fake, encoding='utf-8') \n",
    "    \n",
    "    df_T = pd.DataFrame(columns = ['scores', 'veracity'])\n",
    "    df_F = pd.DataFrame(columns = ['scores', 'veracity'])\n",
    "\n",
    "    df_T['scores'] = dataset_load_true.text.apply(text_to_sentiments)\n",
    "    df_T['veracity'] = 1\n",
    "\n",
    "    df_F['scores'] = dataset_load_fake.text.apply(text_to_sentiments)\n",
    "    df_F['veracity'] = 0\n",
    "\n",
    "    df = pd.concat([df_T,df_F], ignore_index=True)\n",
    "    df = df[df['scores'].map(lambda d: len(d)) > 0]\n",
    "    df.reset_index(drop = True, inplace=True)\n",
    "    \n",
    "    df = pd.concat([df_T,df_F], ignore_index=True)\n",
    "    df = df[df['scores'].map(lambda d: len(d)) > 0]\n",
    "    df.reset_index(drop = True, inplace=True)\n",
    "    \n",
    "    df.to_pickle(os.path.join('out', 'truefake_series.pickle'))\n",
    "    \n",
    "finally:\n",
    "    display(df)"
   ]
  },
  {
   "cell_type": "markdown",
   "metadata": {},
   "source": [
    "<br><br>\n",
    "## Splitting data"
   ]
  },
  {
   "cell_type": "code",
   "execution_count": 5,
   "metadata": {},
   "outputs": [],
   "source": [
    "def train_test_split(df_in, test_size, shuffle=True):\n",
    "    \n",
    "    if shuffle:\n",
    "        df_in = df_in.sample(frac=1).reset_index(drop=True)\n",
    "    \n",
    "    mask_test = np.random.rand(len(df_in)) < test_size # the sample is large enough to probably not care about proper division\n",
    "    \n",
    "    train = df_in[~mask_test]\n",
    "    test = df_in[mask_test]\n",
    "    \n",
    "    X_train = np.array(train['scores'].tolist())\n",
    "    y_train = np.array(train['veracity'].tolist())\n",
    "    \n",
    "    X_test = np.array(test['scores'].tolist())\n",
    "    y_test = np.array(test['veracity'].tolist())\n",
    "    \n",
    "    return (X_train, y_train), (X_test, y_test)"
   ]
  },
  {
   "cell_type": "code",
   "execution_count": 6,
   "metadata": {},
   "outputs": [],
   "source": [
    "# z = np.array([0.1,0.2,0.3])\n",
    "# z = z.reshape(3, 1)\n",
    "# print(z,'\\n')\n",
    "# x = pd.DataFrame({'A': [z,z,z,z]})\n",
    "# print(x,'\\n')\n",
    "# y = np.array(x['A'].to_list())\n",
    "# print(y,'\\n',y.shape)"
   ]
  },
  {
   "cell_type": "code",
   "execution_count": 7,
   "metadata": {},
   "outputs": [
    {
     "name": "stdout",
     "output_type": "stream",
     "text": [
      "train:  26825 26825 \n",
      "test:  18073 18073 \n",
      "test/total: 0.403 %\n"
     ]
    }
   ],
   "source": [
    "np.random.seed(100)\n",
    "random.seed(100)\n",
    "\n",
    "# # turn T/F labels into 1/0\n",
    "# d = {'T': 1, 'F':0}\n",
    "# df['veracity'] = df['veracity'].map(d)\n",
    "\n",
    "(X_train, y_train), (X_test, y_test) = train_test_split(df, test_size = 0.4)\n",
    "\n",
    "print(\"train: \",len(X_train), len(y_train),\n",
    "     \"\\ntest: \",len(X_test), len(y_test),\n",
    "     \"\\ntest/total: {:0.3f} %\".format(len(X_test)/(len(X_test)+len(X_train)))\n",
    "    )"
   ]
  },
  {
   "cell_type": "markdown",
   "metadata": {},
   "source": [
    "<br><br>\n",
    "\n",
    "# **Building the model: 100-100-100 w/ dropout**"
   ]
  },
  {
   "cell_type": "code",
   "execution_count": 8,
   "metadata": {},
   "outputs": [],
   "source": [
    "from keras.models import Sequential\n",
    "from keras.layers import LSTM, Dense, Dropout, Masking, Embedding"
   ]
  },
  {
   "cell_type": "code",
   "execution_count": 16,
   "metadata": {},
   "outputs": [
    {
     "name": "stdout",
     "output_type": "stream",
     "text": [
      "Model: \"sequential_1\"\n",
      "_________________________________________________________________\n",
      "Layer (type)                 Output Shape              Param #   \n",
      "=================================================================\n",
      "masking_1 (Masking)          (None, 100, 1)            0         \n",
      "_________________________________________________________________\n",
      "lstm_2 (LSTM)                (None, 100, 100)          40800     \n",
      "_________________________________________________________________\n",
      "dropout (Dropout)            (None, 100, 100)          0         \n",
      "_________________________________________________________________\n",
      "lstm_3 (LSTM)                (None, 100, 100)          80400     \n",
      "_________________________________________________________________\n",
      "dropout_1 (Dropout)          (None, 100, 100)          0         \n",
      "_________________________________________________________________\n",
      "lstm_4 (LSTM)                (None, 100)               80400     \n",
      "_________________________________________________________________\n",
      "dropout_2 (Dropout)          (None, 100)               0         \n",
      "_________________________________________________________________\n",
      "dense_1 (Dense)              (None, 1)                 101       \n",
      "=================================================================\n",
      "Total params: 201,701\n",
      "Trainable params: 201,701\n",
      "Non-trainable params: 0\n",
      "_________________________________________________________________\n",
      "None\n"
     ]
    }
   ],
   "source": [
    "model = None\n",
    "\n",
    "model = Sequential()\n",
    "\n",
    "model.add(Masking(mask_value=mask_value,\n",
    "                  input_shape=(series_len, 1)))\n",
    "\n",
    "model.add(LSTM(100))\n",
    "\n",
    "model.add(LSTM(100,return_sequences=True))\n",
    "model.add(Dropout(0.2))\n",
    "\n",
    "\n",
    "model.add(LSTM(100))\n",
    "model.add(Dropout(0.2))\n",
    "\n",
    "\n",
    "model.add(Dense(1, activation='sigmoid'))\n",
    "\n",
    "model.compile(loss='binary_crossentropy', optimizer='adam', metrics=['accuracy'])\n",
    "\n",
    "print(model.summary())"
   ]
  },
  {
   "cell_type": "code",
   "execution_count": 17,
   "metadata": {},
   "outputs": [
    {
     "name": "stdout",
     "output_type": "stream",
     "text": [
      "Epoch 1/20\n",
      "420/420 [==============================] - 149s 354ms/step - loss: 0.6874 - accuracy: 0.5457 - val_loss: 0.6834 - val_accuracy: 0.5798\n",
      "Epoch 2/20\n",
      "420/420 [==============================] - 146s 347ms/step - loss: 0.6787 - accuracy: 0.5778 - val_loss: 0.6785 - val_accuracy: 0.5745\n",
      "Epoch 3/20\n",
      "420/420 [==============================] - 151s 360ms/step - loss: 0.6713 - accuracy: 0.5860 - val_loss: 0.6669 - val_accuracy: 0.5961\n",
      "Epoch 4/20\n",
      "420/420 [==============================] - 147s 350ms/step - loss: 0.6648 - accuracy: 0.5979 - val_loss: 0.6607 - val_accuracy: 0.6033\n",
      "Epoch 5/20\n",
      "420/420 [==============================] - 147s 351ms/step - loss: 0.6581 - accuracy: 0.6052 - val_loss: 0.6568 - val_accuracy: 0.6064\n",
      "Epoch 6/20\n",
      "420/420 [==============================] - 149s 355ms/step - loss: 0.6556 - accuracy: 0.6092 - val_loss: 0.6575 - val_accuracy: 0.6080\n",
      "Epoch 7/20\n",
      "420/420 [==============================] - 149s 355ms/step - loss: 0.6520 - accuracy: 0.6158 - val_loss: 0.6566 - val_accuracy: 0.6069\n",
      "Epoch 8/20\n",
      "420/420 [==============================] - 148s 352ms/step - loss: 0.6496 - accuracy: 0.6173 - val_loss: 0.6524 - val_accuracy: 0.6190\n",
      "Epoch 9/20\n",
      "420/420 [==============================] - 150s 357ms/step - loss: 0.6472 - accuracy: 0.6253 - val_loss: 0.6505 - val_accuracy: 0.6221\n",
      "Epoch 10/20\n",
      "420/420 [==============================] - 150s 357ms/step - loss: 0.6451 - accuracy: 0.6275 - val_loss: 0.6486 - val_accuracy: 0.6261\n",
      "Epoch 11/20\n",
      "420/420 [==============================] - 149s 354ms/step - loss: 0.6425 - accuracy: 0.6326 - val_loss: 0.6454 - val_accuracy: 0.6302\n",
      "Epoch 12/20\n",
      "420/420 [==============================] - 148s 352ms/step - loss: 0.6394 - accuracy: 0.6326 - val_loss: 0.6515 - val_accuracy: 0.6203\n",
      "Epoch 13/20\n",
      "420/420 [==============================] - 150s 358ms/step - loss: 0.6374 - accuracy: 0.6371 - val_loss: 0.6443 - val_accuracy: 0.6300\n",
      "Epoch 14/20\n",
      "420/420 [==============================] - 150s 358ms/step - loss: 0.6353 - accuracy: 0.6392 - val_loss: 0.6425 - val_accuracy: 0.6281\n",
      "Epoch 15/20\n",
      "420/420 [==============================] - 149s 354ms/step - loss: 0.6330 - accuracy: 0.6410 - val_loss: 0.6416 - val_accuracy: 0.6286\n",
      "Epoch 16/20\n",
      "420/420 [==============================] - 150s 356ms/step - loss: 0.6308 - accuracy: 0.6398 - val_loss: 0.6412 - val_accuracy: 0.6307\n",
      "Epoch 17/20\n",
      "420/420 [==============================] - 150s 357ms/step - loss: 0.6330 - accuracy: 0.6394 - val_loss: 0.6395 - val_accuracy: 0.6377\n",
      "Epoch 18/20\n",
      "420/420 [==============================] - 148s 351ms/step - loss: 0.6276 - accuracy: 0.6457 - val_loss: 0.6381 - val_accuracy: 0.6366\n",
      "Epoch 19/20\n",
      "420/420 [==============================] - 149s 355ms/step - loss: 0.6258 - accuracy: 0.6483 - val_loss: 0.6318 - val_accuracy: 0.6438\n",
      "Epoch 20/20\n",
      "420/420 [==============================] - 151s 359ms/step - loss: 0.6232 - accuracy: 0.6520 - val_loss: 0.6325 - val_accuracy: 0.6386\n"
     ]
    }
   ],
   "source": [
    "history = model.fit(X_train, y_train, validation_data=(X_test, y_test), epochs=20, batch_size=64)"
   ]
  },
  {
   "cell_type": "code",
   "execution_count": 11,
   "metadata": {},
   "outputs": [
    {
     "name": "stdout",
     "output_type": "stream",
     "text": [
      "Accuracy: 63.84%\n"
     ]
    }
   ],
   "source": [
    "scores = model.evaluate(X_test, y_test, verbose=0)\n",
    "print(\"Accuracy: %.2f%%\" % (scores[1]*100))"
   ]
  },
  {
   "cell_type": "code",
   "execution_count": 15,
   "metadata": {},
   "outputs": [
    {
     "name": "stdout",
     "output_type": "stream",
     "text": [
      "dict_keys(['loss', 'accuracy', 'val_loss', 'val_accuracy'])\n"
     ]
    },
    {
     "data": {
      "image/png": "[encoded data removed]",
      "text/plain": [
       "<Figure size 432x288 with 1 Axes>"
      ]
     },
     "metadata": {
      "needs_background": "light"
     },
     "output_type": "display_data"
    },
    {
     "data": {
      "image/png": "[encoded data removed]",
      "text/plain": [
       "<Figure size 432x288 with 1 Axes>"
      ]
     },
     "metadata": {
      "needs_background": "light"
     },
     "output_type": "display_data"
    }
   ],
   "source": [
    "# Thanks Jason Brownlee\n",
    "# https://machinelearningmastery.com/display-deep-learning-model-training-history-in-keras/\n",
    "\n",
    "print(history.history.keys())\n",
    "# summarize history for accuracy\n",
    "plt.plot(history.history['accuracy'])\n",
    "plt.plot(history.history['val_accuracy'])\n",
    "plt.title('model accuracy')\n",
    "plt.ylabel('accuracy')\n",
    "plt.xlabel('epoch')\n",
    "plt.legend(['train', 'test'], loc='upper left')\n",
    "plt.show()\n",
    "# summarize history for loss\n",
    "plt.plot(history.history['loss'])\n",
    "plt.plot(history.history['val_loss'])\n",
    "plt.title('model loss')\n",
    "plt.ylabel('loss')\n",
    "plt.xlabel('epoch')\n",
    "plt.legend(['train', 'test'], loc='upper left')\n",
    "plt.show()"
   ]
  },
  {
   "cell_type": "markdown",
   "metadata": {},
   "source": [
    "<br><br>\n",
    "\n",
    "# **Building the model: 100-1**"
   ]
  },
  {
   "cell_type": "code",
   "execution_count": 27,
   "metadata": {},
   "outputs": [
    {
     "name": "stdout",
     "output_type": "stream",
     "text": [
      "Model: \"sequential_3\"\n",
      "_________________________________________________________________\n",
      "Layer (type)                 Output Shape              Param #   \n",
      "=================================================================\n",
      "masking_3 (Masking)          (None, 100, 1)            0         \n",
      "_________________________________________________________________\n",
      "lstm_6 (LSTM)                (None, 100, 100)          40800     \n",
      "_________________________________________________________________\n",
      "dense_3 (Dense)              (None, 100, 1)            101       \n",
      "=================================================================\n",
      "Total params: 40,901\n",
      "Trainable params: 40,901\n",
      "Non-trainable params: 0\n",
      "_________________________________________________________________\n",
      "None\n"
     ]
    }
   ],
   "source": [
    "model = None\n",
    "\n",
    "model = Sequential()\n",
    "\n",
    "model.add(Masking(mask_value=mask_value,\n",
    "                  input_shape=(series_len, 1)))\n",
    "\n",
    "model.add(LSTM(100))\n",
    "\n",
    "model.add(Dense(1, activation='sigmoid'))\n",
    "\n",
    "model.compile(loss='binary_crossentropy', optimizer='adam', metrics=['accuracy'])\n",
    "\n",
    "print(model.summary())"
   ]
  },
  {
   "cell_type": "code",
   "execution_count": 24,
   "metadata": {},
   "outputs": [
    {
     "name": "stdout",
     "output_type": "stream",
     "text": [
      "Epoch 1/30\n",
      "420/420 [==============================] - 49s 118ms/step - loss: 0.6222 - accuracy: 0.6509 - val_loss: 0.6402 - val_accuracy: 0.6298\n",
      "Epoch 2/30\n",
      "420/420 [==============================] - 48s 115ms/step - loss: 0.6223 - accuracy: 0.6503 - val_loss: 0.6363 - val_accuracy: 0.6373\n",
      "Epoch 3/30\n",
      "420/420 [==============================] - 47s 112ms/step - loss: 0.6207 - accuracy: 0.6529 - val_loss: 0.6353 - val_accuracy: 0.6410\n",
      "Epoch 4/30\n",
      "420/420 [==============================] - 48s 113ms/step - loss: 0.6193 - accuracy: 0.6540 - val_loss: 0.6374 - val_accuracy: 0.6380\n",
      "Epoch 5/30\n",
      "420/420 [==============================] - 45s 107ms/step - loss: 0.6170 - accuracy: 0.6558 - val_loss: 0.6365 - val_accuracy: 0.6389\n",
      "Epoch 6/30\n",
      "420/420 [==============================] - 45s 106ms/step - loss: 0.6162 - accuracy: 0.6552 - val_loss: 0.6378 - val_accuracy: 0.6376\n",
      "Epoch 7/30\n",
      "420/420 [==============================] - 45s 106ms/step - loss: 0.6142 - accuracy: 0.6592 - val_loss: 0.6370 - val_accuracy: 0.6423\n",
      "Epoch 8/30\n",
      "420/420 [==============================] - 44s 105ms/step - loss: 0.6123 - accuracy: 0.6576 - val_loss: 0.6390 - val_accuracy: 0.6359\n",
      "Epoch 9/30\n",
      "420/420 [==============================] - 45s 107ms/step - loss: 0.6117 - accuracy: 0.6581 - val_loss: 0.6363 - val_accuracy: 0.6417\n",
      "Epoch 10/30\n",
      "420/420 [==============================] - 45s 108ms/step - loss: 0.6092 - accuracy: 0.6623 - val_loss: 0.6387 - val_accuracy: 0.6374\n",
      "Epoch 11/30\n",
      "420/420 [==============================] - 44s 105ms/step - loss: 0.6070 - accuracy: 0.6642 - val_loss: 0.6397 - val_accuracy: 0.6379\n",
      "Epoch 12/30\n",
      "420/420 [==============================] - 45s 106ms/step - loss: 0.6134 - accuracy: 0.6580 - val_loss: 0.6453 - val_accuracy: 0.6338\n",
      "Epoch 13/30\n",
      "420/420 [==============================] - 45s 107ms/step - loss: 0.6076 - accuracy: 0.6612 - val_loss: 0.6431 - val_accuracy: 0.6365\n",
      "Epoch 14/30\n",
      "420/420 [==============================] - 44s 105ms/step - loss: 0.6046 - accuracy: 0.6662 - val_loss: 0.6394 - val_accuracy: 0.6420\n",
      "Epoch 15/30\n",
      "420/420 [==============================] - 45s 107ms/step - loss: 0.6020 - accuracy: 0.6683 - val_loss: 0.6368 - val_accuracy: 0.6386\n",
      "Epoch 16/30\n",
      "420/420 [==============================] - 45s 106ms/step - loss: 0.5989 - accuracy: 0.6728 - val_loss: 0.6406 - val_accuracy: 0.6400\n",
      "Epoch 17/30\n",
      "420/420 [==============================] - 44s 106ms/step - loss: 0.5957 - accuracy: 0.6734 - val_loss: 0.6435 - val_accuracy: 0.6363\n",
      "Epoch 18/30\n",
      "420/420 [==============================] - 45s 106ms/step - loss: 0.5946 - accuracy: 0.6736 - val_loss: 0.6406 - val_accuracy: 0.6356\n",
      "Epoch 19/30\n",
      "420/420 [==============================] - 45s 107ms/step - loss: 0.5926 - accuracy: 0.6752 - val_loss: 0.6402 - val_accuracy: 0.6355\n",
      "Epoch 20/30\n",
      "420/420 [==============================] - 45s 108ms/step - loss: 0.5891 - accuracy: 0.6787 - val_loss: 0.6456 - val_accuracy: 0.6387\n",
      "Epoch 21/30\n",
      "420/420 [==============================] - 44s 104ms/step - loss: 0.5865 - accuracy: 0.6822 - val_loss: 0.6461 - val_accuracy: 0.6385\n",
      "Epoch 22/30\n",
      "420/420 [==============================] - 46s 108ms/step - loss: 0.5830 - accuracy: 0.6845 - val_loss: 0.6439 - val_accuracy: 0.6382\n",
      "Epoch 23/30\n",
      "420/420 [==============================] - 45s 107ms/step - loss: 0.5812 - accuracy: 0.6873 - val_loss: 0.6508 - val_accuracy: 0.6372\n",
      "Epoch 24/30\n",
      "420/420 [==============================] - 44s 106ms/step - loss: 0.5796 - accuracy: 0.6876 - val_loss: 0.6505 - val_accuracy: 0.6407\n",
      "Epoch 25/30\n",
      "420/420 [==============================] - 44s 106ms/step - loss: 0.5739 - accuracy: 0.6929 - val_loss: 0.6512 - val_accuracy: 0.6361\n",
      "Epoch 26/30\n",
      "420/420 [==============================] - 45s 106ms/step - loss: 0.5753 - accuracy: 0.6916 - val_loss: 0.6500 - val_accuracy: 0.6371\n",
      "Epoch 27/30\n",
      "420/420 [==============================] - 44s 104ms/step - loss: 0.5705 - accuracy: 0.6943 - val_loss: 0.6538 - val_accuracy: 0.6303\n",
      "Epoch 28/30\n",
      "420/420 [==============================] - 45s 107ms/step - loss: 0.5668 - accuracy: 0.6972 - val_loss: 0.6635 - val_accuracy: 0.6363\n",
      "Epoch 29/30\n",
      "420/420 [==============================] - 45s 107ms/step - loss: 0.5623 - accuracy: 0.7008 - val_loss: 0.6627 - val_accuracy: 0.6304\n",
      "Epoch 30/30\n",
      "420/420 [==============================] - 45s 106ms/step - loss: 0.5608 - accuracy: 0.7017 - val_loss: 0.6596 - val_accuracy: 0.6335\n"
     ]
    }
   ],
   "source": [
    "history = model.fit(X_train, y_train, validation_data=(X_test, y_test), epochs=30, batch_size=64)"
   ]
  },
  {
   "cell_type": "code",
   "execution_count": 25,
   "metadata": {},
   "outputs": [
    {
     "name": "stdout",
     "output_type": "stream",
     "text": [
      "Accuracy: 63.35%\n"
     ]
    }
   ],
   "source": [
    "scores = model.evaluate(X_test, y_test, verbose=0)\n",
    "print(\"Accuracy: %.2f%%\" % (scores[1]*100))"
   ]
  },
  {
   "cell_type": "code",
   "execution_count": 26,
   "metadata": {},
   "outputs": [
    {
     "name": "stdout",
     "output_type": "stream",
     "text": [
      "dict_keys(['loss', 'accuracy', 'val_loss', 'val_accuracy'])\n"
     ]
    },
    {
     "data": {
      "image/png": "[encoded data removed]",
      "text/plain": [
       "<Figure size 432x288 with 1 Axes>"
      ]
     },
     "metadata": {
      "needs_background": "light"
     },
     "output_type": "display_data"
    },
    {
     "data": {
      "image/png": "[encoded data removed]",
      "text/plain": [
       "<Figure size 432x288 with 1 Axes>"
      ]
     },
     "metadata": {
      "needs_background": "light"
     },
     "output_type": "display_data"
    }
   ],
   "source": [
    "# Thanks Jason Brownlee\n",
    "# https://machinelearningmastery.com/display-deep-learning-model-training-history-in-keras/\n",
    "\n",
    "print(history.history.keys())\n",
    "# summarize history for accuracy\n",
    "plt.plot(history.history['accuracy'])\n",
    "plt.plot(history.history['val_accuracy'])\n",
    "plt.title('model accuracy')\n",
    "plt.ylabel('accuracy')\n",
    "plt.xlabel('epoch')\n",
    "plt.legend(['train', 'test'], loc='upper left')\n",
    "plt.show()\n",
    "# summarize history for loss\n",
    "plt.plot(history.history['loss'])\n",
    "plt.plot(history.history['val_loss'])\n",
    "plt.title('model loss')\n",
    "plt.ylabel('loss')\n",
    "plt.xlabel('epoch')\n",
    "plt.legend(['train', 'test'], loc='upper left')\n",
    "plt.show()"
   ]
  },
  {
   "cell_type": "markdown",
   "metadata": {},
   "source": [
    "<br><br>\n",
    "\n",
    "# **Building the model: 100-50-25 w/ dropout**"
   ]
  },
  {
   "cell_type": "code",
   "execution_count": 31,
   "metadata": {},
   "outputs": [
    {
     "name": "stdout",
     "output_type": "stream",
     "text": [
      "Model: \"sequential_6\"\n",
      "_________________________________________________________________\n",
      "Layer (type)                 Output Shape              Param #   \n",
      "=================================================================\n",
      "masking_6 (Masking)          (None, 100, 1)            0         \n",
      "_________________________________________________________________\n",
      "lstm_13 (LSTM)               (None, 100, 100)          40800     \n",
      "_________________________________________________________________\n",
      "dropout_9 (Dropout)          (None, 100, 100)          0         \n",
      "_________________________________________________________________\n",
      "lstm_14 (LSTM)               (None, 100, 50)           30200     \n",
      "_________________________________________________________________\n",
      "dropout_10 (Dropout)         (None, 100, 50)           0         \n",
      "_________________________________________________________________\n",
      "lstm_15 (LSTM)               (None, 25)                7600      \n",
      "_________________________________________________________________\n",
      "dropout_11 (Dropout)         (None, 25)                0         \n",
      "_________________________________________________________________\n",
      "dense_6 (Dense)              (None, 1)                 26        \n",
      "=================================================================\n",
      "Total params: 78,626\n",
      "Trainable params: 78,626\n",
      "Non-trainable params: 0\n",
      "_________________________________________________________________\n",
      "None\n"
     ]
    }
   ],
   "source": [
    "model = None\n",
    "\n",
    "model = Sequential()\n",
    "\n",
    "model.add(Masking(mask_value=mask_value,\n",
    "                  input_shape=(series_len, 1)))\n",
    "\n",
    "model.add(LSTM(100, return_sequences=True))\n",
    "model.add(Dropout(0.2))\n",
    "\n",
    "\n",
    "model.add(LSTM(50, return_sequences=True))\n",
    "model.add(Dropout(0.2))\n",
    "\n",
    "\n",
    "model.add(LSTM(25))\n",
    "model.add(Dropout(0.2))\n",
    "\n",
    "\n",
    "model.add(Dense(1, activation='sigmoid'))\n",
    "\n",
    "model.compile(loss='binary_crossentropy', optimizer='adam', metrics=['accuracy'])\n",
    "\n",
    "print(model.summary())"
   ]
  },
  {
   "cell_type": "code",
   "execution_count": 32,
   "metadata": {},
   "outputs": [
    {
     "name": "stdout",
     "output_type": "stream",
     "text": [
      "Epoch 1/20\n",
      "420/420 [==============================] - 129s 307ms/step - loss: 0.6874 - accuracy: 0.5389 - val_loss: 0.6855 - val_accuracy: 0.5412\n",
      "Epoch 2/20\n",
      "420/420 [==============================] - 124s 295ms/step - loss: 0.6835 - accuracy: 0.5563 - val_loss: 0.6810 - val_accuracy: 0.5709\n",
      "Epoch 3/20\n",
      "420/420 [==============================] - 123s 293ms/step - loss: 0.6746 - accuracy: 0.5739 - val_loss: 0.6670 - val_accuracy: 0.5866\n",
      "Epoch 4/20\n",
      "420/420 [==============================] - 126s 301ms/step - loss: 0.6639 - accuracy: 0.5953 - val_loss: 0.6614 - val_accuracy: 0.6039\n",
      "Epoch 5/20\n",
      "420/420 [==============================] - 125s 297ms/step - loss: 0.6580 - accuracy: 0.6086 - val_loss: 0.6586 - val_accuracy: 0.6071\n",
      "Epoch 6/20\n",
      "420/420 [==============================] - 123s 292ms/step - loss: 0.6545 - accuracy: 0.6121 - val_loss: 0.6587 - val_accuracy: 0.6071\n",
      "Epoch 7/20\n",
      "420/420 [==============================] - 121s 288ms/step - loss: 0.6526 - accuracy: 0.6120 - val_loss: 0.6547 - val_accuracy: 0.6109\n",
      "Epoch 8/20\n",
      "420/420 [==============================] - 117s 278ms/step - loss: 0.6501 - accuracy: 0.6152 - val_loss: 0.6515 - val_accuracy: 0.6110\n",
      "Epoch 9/20\n",
      "420/420 [==============================] - 121s 288ms/step - loss: 0.6478 - accuracy: 0.6192 - val_loss: 0.6511 - val_accuracy: 0.6161\n",
      "Epoch 10/20\n",
      "420/420 [==============================] - 122s 290ms/step - loss: 0.6457 - accuracy: 0.6225 - val_loss: 0.6481 - val_accuracy: 0.6235\n",
      "Epoch 11/20\n",
      "420/420 [==============================] - 121s 288ms/step - loss: 0.6437 - accuracy: 0.6232 - val_loss: 0.6502 - val_accuracy: 0.6188\n",
      "Epoch 12/20\n",
      "420/420 [==============================] - 122s 290ms/step - loss: 0.6421 - accuracy: 0.6312 - val_loss: 0.6483 - val_accuracy: 0.6269\n",
      "Epoch 13/20\n",
      "420/420 [==============================] - 126s 301ms/step - loss: 0.6386 - accuracy: 0.6355 - val_loss: 0.6414 - val_accuracy: 0.6394\n",
      "Epoch 14/20\n",
      "420/420 [==============================] - 116s 275ms/step - loss: 0.6364 - accuracy: 0.6369 - val_loss: 0.6428 - val_accuracy: 0.6320\n",
      "Epoch 15/20\n",
      "420/420 [==============================] - 115s 275ms/step - loss: 0.6352 - accuracy: 0.6385 - val_loss: 0.6425 - val_accuracy: 0.6344\n",
      "Epoch 16/20\n",
      "420/420 [==============================] - 115s 274ms/step - loss: 0.6351 - accuracy: 0.6397 - val_loss: 0.6402 - val_accuracy: 0.6343\n",
      "Epoch 17/20\n",
      "420/420 [==============================] - 116s 275ms/step - loss: 0.6317 - accuracy: 0.6432 - val_loss: 0.6384 - val_accuracy: 0.6341\n",
      "Epoch 18/20\n",
      "420/420 [==============================] - 116s 276ms/step - loss: 0.6301 - accuracy: 0.6436 - val_loss: 0.6354 - val_accuracy: 0.6463\n",
      "Epoch 19/20\n",
      "420/420 [==============================] - 116s 275ms/step - loss: 0.6281 - accuracy: 0.6473 - val_loss: 0.6390 - val_accuracy: 0.6363\n",
      "Epoch 20/20\n",
      "420/420 [==============================] - 116s 276ms/step - loss: 0.6259 - accuracy: 0.6497 - val_loss: 0.6416 - val_accuracy: 0.6379\n"
     ]
    }
   ],
   "source": [
    "history = model.fit(X_train, y_train, validation_data=(X_test, y_test), epochs=20, batch_size=64)"
   ]
  },
  {
   "cell_type": "code",
   "execution_count": 33,
   "metadata": {},
   "outputs": [
    {
     "name": "stdout",
     "output_type": "stream",
     "text": [
      "Accuracy: 63.79%\n"
     ]
    }
   ],
   "source": [
    "scores = model.evaluate(X_test, y_test, verbose=0)\n",
    "print(\"Accuracy: %.2f%%\" % (scores[1]*100))"
   ]
  },
  {
   "cell_type": "code",
   "execution_count": 34,
   "metadata": {},
   "outputs": [
    {
     "name": "stdout",
     "output_type": "stream",
     "text": [
      "dict_keys(['loss', 'accuracy', 'val_loss', 'val_accuracy'])\n"
     ]
    },
    {
     "data": {
      "image/png": "[encoded data removed]",
      "text/plain": [
       "<Figure size 432x288 with 1 Axes>"
      ]
     },
     "metadata": {
      "needs_background": "light"
     },
     "output_type": "display_data"
    },
    {
     "data": {
      "image/png": "[encoded data removed]",
      "text/plain": [
       "<Figure size 432x288 with 1 Axes>"
      ]
     },
     "metadata": {
      "needs_background": "light"
     },
     "output_type": "display_data"
    }
   ],
   "source": [
    "# Thanks Jason Brownlee\n",
    "# https://machinelearningmastery.com/display-deep-learning-model-training-history-in-keras/\n",
    "\n",
    "print(history.history.keys())\n",
    "# summarize history for accuracy\n",
    "plt.plot(history.history['accuracy'])\n",
    "plt.plot(history.history['val_accuracy'])\n",
    "plt.title('model accuracy')\n",
    "plt.ylabel('accuracy')\n",
    "plt.xlabel('epoch')\n",
    "plt.legend(['train', 'test'], loc='upper left')\n",
    "plt.show()\n",
    "# summarize history for loss\n",
    "plt.plot(history.history['loss'])\n",
    "plt.plot(history.history['val_loss'])\n",
    "plt.title('model loss')\n",
    "plt.ylabel('loss')\n",
    "plt.xlabel('epoch')\n",
    "plt.legend(['train', 'test'], loc='upper left')\n",
    "plt.show()"
   ]
  },
  {
   "cell_type": "markdown",
   "metadata": {},
   "source": [
    "<br><br>\n",
    "\n",
    "# **Building the model: 100-50-25-10 w/ dropout**"
   ]
  },
  {
   "cell_type": "code",
   "execution_count": 51,
   "metadata": {},
   "outputs": [
    {
     "name": "stdout",
     "output_type": "stream",
     "text": [
      "Model: \"sequential_16\"\n",
      "_________________________________________________________________\n",
      "Layer (type)                 Output Shape              Param #   \n",
      "=================================================================\n",
      "masking_16 (Masking)         (None, 100, 1)            0         \n",
      "_________________________________________________________________\n",
      "lstm_50 (LSTM)               (None, 100, 100)          40800     \n",
      "_________________________________________________________________\n",
      "dropout_42 (Dropout)         (None, 100, 100)          0         \n",
      "_________________________________________________________________\n",
      "lstm_51 (LSTM)               (None, 100, 50)           30200     \n",
      "_________________________________________________________________\n",
      "dropout_43 (Dropout)         (None, 100, 50)           0         \n",
      "_________________________________________________________________\n",
      "lstm_52 (LSTM)               (None, 100, 25)           7600      \n",
      "_________________________________________________________________\n",
      "dropout_44 (Dropout)         (None, 100, 25)           0         \n",
      "_________________________________________________________________\n",
      "lstm_53 (LSTM)               (None, 10)                1440      \n",
      "_________________________________________________________________\n",
      "dropout_45 (Dropout)         (None, 10)                0         \n",
      "_________________________________________________________________\n",
      "dense_16 (Dense)             (None, 1)                 11        \n",
      "_________________________________________________________________\n",
      "dense_17 (Dense)             (None, 1)                 2         \n",
      "=================================================================\n",
      "Total params: 80,053\n",
      "Trainable params: 80,053\n",
      "Non-trainable params: 0\n",
      "_________________________________________________________________\n",
      "None\n"
     ]
    }
   ],
   "source": [
    "model = None\n",
    "\n",
    "model = Sequential()\n",
    "\n",
    "model.add(Masking(mask_value=mask_value,\n",
    "                  input_shape=(series_len, 1)))\n",
    "\n",
    "model.add(LSTM(100, return_sequences=True))\n",
    "model.add(Dropout(0.2))\n",
    "\n",
    "\n",
    "model.add(LSTM(50, return_sequences=True))\n",
    "model.add(Dropout(0.2))\n",
    "\n",
    "\n",
    "model.add(LSTM(25, return_sequences=True))\n",
    "model.add(Dropout(0.2))\n",
    "\n",
    "\n",
    "model.add(LSTM(10))\n",
    "model.add(Dropout(0.2))\n",
    "\n",
    "model.add(Dense(1))\n",
    "\n",
    "model.add(Dense(1, activation='sigmoid'))\n",
    "\n",
    "model.compile(loss='binary_crossentropy', optimizer='adam', metrics=['accuracy'])\n",
    "\n",
    "print(model.summary())"
   ]
  },
  {
   "cell_type": "code",
   "execution_count": 53,
   "metadata": {},
   "outputs": [
    {
     "name": "stdout",
     "output_type": "stream",
     "text": [
      "Epoch 1/40\n",
      "420/420 [==============================] - 150s 357ms/step - loss: 0.6852 - accuracy: 0.5467 - val_loss: 0.6842 - val_accuracy: 0.5423\n",
      "Epoch 2/40\n",
      "420/420 [==============================] - 146s 349ms/step - loss: 0.6830 - accuracy: 0.5625 - val_loss: 0.6815 - val_accuracy: 0.5686\n",
      "Epoch 3/40\n",
      "420/420 [==============================] - 143s 340ms/step - loss: 0.6804 - accuracy: 0.5671 - val_loss: 0.6780 - val_accuracy: 0.5742\n",
      "Epoch 4/40\n",
      "420/420 [==============================] - 142s 338ms/step - loss: 0.6741 - accuracy: 0.5773 - val_loss: 0.6736 - val_accuracy: 0.5746\n",
      "Epoch 5/40\n",
      "420/420 [==============================] - 141s 336ms/step - loss: 0.6671 - accuracy: 0.5916 - val_loss: 0.6686 - val_accuracy: 0.5955\n",
      "Epoch 6/40\n",
      "420/420 [==============================] - 142s 338ms/step - loss: 0.6602 - accuracy: 0.6056 - val_loss: 0.6603 - val_accuracy: 0.6072\n",
      "Epoch 7/40\n",
      "420/420 [==============================] - 144s 343ms/step - loss: 0.6570 - accuracy: 0.6069 - val_loss: 0.6599 - val_accuracy: 0.6032\n",
      "Epoch 8/40\n",
      "420/420 [==============================] - 142s 339ms/step - loss: 0.6549 - accuracy: 0.6096 - val_loss: 0.6671 - val_accuracy: 0.5863\n",
      "Epoch 9/40\n",
      "420/420 [==============================] - 145s 345ms/step - loss: 0.6559 - accuracy: 0.6047 - val_loss: 0.6586 - val_accuracy: 0.6069\n",
      "Epoch 10/40\n",
      "420/420 [==============================] - 141s 336ms/step - loss: 0.6528 - accuracy: 0.6123 - val_loss: 0.6527 - val_accuracy: 0.6081\n",
      "Epoch 11/40\n",
      "420/420 [==============================] - 140s 333ms/step - loss: 0.6499 - accuracy: 0.6171 - val_loss: 0.6518 - val_accuracy: 0.6111\n",
      "Epoch 12/40\n",
      "420/420 [==============================] - 142s 338ms/step - loss: 0.6480 - accuracy: 0.6192 - val_loss: 0.6490 - val_accuracy: 0.6295\n",
      "Epoch 13/40\n",
      "420/420 [==============================] - 140s 332ms/step - loss: 0.6457 - accuracy: 0.6228 - val_loss: 0.6469 - val_accuracy: 0.6292\n",
      "Epoch 14/40\n",
      "420/420 [==============================] - 139s 332ms/step - loss: 0.6468 - accuracy: 0.6212 - val_loss: 0.6465 - val_accuracy: 0.6239\n",
      "Epoch 15/40\n",
      "420/420 [==============================] - 138s 329ms/step - loss: 0.6468 - accuracy: 0.6248 - val_loss: 0.6593 - val_accuracy: 0.6086\n",
      "Epoch 16/40\n",
      "420/420 [==============================] - 139s 332ms/step - loss: 0.6440 - accuracy: 0.6244 - val_loss: 0.6443 - val_accuracy: 0.6303\n",
      "Epoch 17/40\n",
      "420/420 [==============================] - 139s 331ms/step - loss: 0.6401 - accuracy: 0.6297 - val_loss: 0.6422 - val_accuracy: 0.6364\n",
      "Epoch 18/40\n",
      "420/420 [==============================] - 139s 331ms/step - loss: 0.6391 - accuracy: 0.6303 - val_loss: 0.6405 - val_accuracy: 0.6370\n",
      "Epoch 19/40\n",
      "420/420 [==============================] - 140s 333ms/step - loss: 0.6378 - accuracy: 0.6336 - val_loss: 0.6435 - val_accuracy: 0.6306\n",
      "Epoch 20/40\n",
      "420/420 [==============================] - 140s 333ms/step - loss: 0.6357 - accuracy: 0.6336 - val_loss: 0.6437 - val_accuracy: 0.6241\n",
      "Epoch 21/40\n",
      "420/420 [==============================] - 139s 331ms/step - loss: 0.6375 - accuracy: 0.6356 - val_loss: 0.6395 - val_accuracy: 0.6359\n",
      "Epoch 22/40\n",
      "420/420 [==============================] - 138s 330ms/step - loss: 0.6347 - accuracy: 0.6351 - val_loss: 0.6391 - val_accuracy: 0.6374\n",
      "Epoch 23/40\n",
      "420/420 [==============================] - 139s 330ms/step - loss: 0.6348 - accuracy: 0.6406 - val_loss: 0.6429 - val_accuracy: 0.6341\n",
      "Epoch 24/40\n",
      "420/420 [==============================] - 138s 329ms/step - loss: 0.6345 - accuracy: 0.6414 - val_loss: 0.6353 - val_accuracy: 0.6431\n",
      "Epoch 25/40\n",
      "420/420 [==============================] - 140s 333ms/step - loss: 0.6304 - accuracy: 0.6417 - val_loss: 0.6383 - val_accuracy: 0.6385\n",
      "Epoch 26/40\n",
      "420/420 [==============================] - 139s 331ms/step - loss: 0.6303 - accuracy: 0.6427 - val_loss: 0.6354 - val_accuracy: 0.6389\n",
      "Epoch 27/40\n",
      "420/420 [==============================] - 139s 331ms/step - loss: 0.6447 - accuracy: 0.6270 - val_loss: 0.6545 - val_accuracy: 0.6121\n",
      "Epoch 28/40\n",
      "420/420 [==============================] - 139s 331ms/step - loss: 0.6550 - accuracy: 0.6113 - val_loss: 0.6479 - val_accuracy: 0.6225\n",
      "Epoch 29/40\n",
      "420/420 [==============================] - 139s 332ms/step - loss: 0.6452 - accuracy: 0.6252 - val_loss: 0.6468 - val_accuracy: 0.6216\n",
      "Epoch 30/40\n",
      "420/420 [==============================] - 139s 330ms/step - loss: 0.6407 - accuracy: 0.6326 - val_loss: 0.6404 - val_accuracy: 0.6343\n",
      "Epoch 31/40\n",
      "420/420 [==============================] - 139s 330ms/step - loss: 0.6360 - accuracy: 0.6354 - val_loss: 0.6381 - val_accuracy: 0.6355\n",
      "Epoch 32/40\n",
      "420/420 [==============================] - 147s 351ms/step - loss: 0.6310 - accuracy: 0.6408 - val_loss: 0.6367 - val_accuracy: 0.6403\n",
      "Epoch 33/40\n",
      "420/420 [==============================] - 140s 333ms/step - loss: 0.6299 - accuracy: 0.6418 - val_loss: 0.6364 - val_accuracy: 0.6369\n",
      "Epoch 34/40\n",
      "420/420 [==============================] - 147s 350ms/step - loss: 0.6296 - accuracy: 0.6434 - val_loss: 0.6334 - val_accuracy: 0.6405\n",
      "Epoch 35/40\n",
      "420/420 [==============================] - 143s 342ms/step - loss: 0.6260 - accuracy: 0.6470 - val_loss: 0.6325 - val_accuracy: 0.6402\n",
      "Epoch 36/40\n",
      "420/420 [==============================] - 149s 354ms/step - loss: 0.6251 - accuracy: 0.6473 - val_loss: 0.6395 - val_accuracy: 0.6387\n",
      "Epoch 37/40\n",
      "420/420 [==============================] - 148s 353ms/step - loss: 0.6271 - accuracy: 0.6464 - val_loss: 0.6318 - val_accuracy: 0.6395\n",
      "Epoch 38/40\n",
      "420/420 [==============================] - 147s 351ms/step - loss: 0.6233 - accuracy: 0.6478 - val_loss: 0.6303 - val_accuracy: 0.6459\n",
      "Epoch 39/40\n",
      "420/420 [==============================] - 138s 328ms/step - loss: 0.6214 - accuracy: 0.6520 - val_loss: 0.6310 - val_accuracy: 0.6439\n",
      "Epoch 40/40\n",
      "420/420 [==============================] - 137s 327ms/step - loss: 0.6205 - accuracy: 0.6540 - val_loss: 0.6296 - val_accuracy: 0.6410\n"
     ]
    }
   ],
   "source": [
    "history = model.fit(X_train, y_train, validation_data=(X_test, y_test), epochs=40, batch_size=64)"
   ]
  },
  {
   "cell_type": "code",
   "execution_count": 54,
   "metadata": {},
   "outputs": [
    {
     "name": "stdout",
     "output_type": "stream",
     "text": [
      "Accuracy: 64.10%\n"
     ]
    }
   ],
   "source": [
    "scores = model.evaluate(X_test, y_test, verbose=0)\n",
    "print(\"Accuracy: %.2f%%\" % (scores[1]*100))"
   ]
  },
  {
   "cell_type": "code",
   "execution_count": 55,
   "metadata": {},
   "outputs": [
    {
     "name": "stdout",
     "output_type": "stream",
     "text": [
      "dict_keys(['loss', 'accuracy', 'val_loss', 'val_accuracy'])\n"
     ]
    },
    {
     "data": {
      "image/png": "[encoded data removed]",
      "text/plain": [
       "<Figure size 432x288 with 1 Axes>"
      ]
     },
     "metadata": {
      "needs_background": "light"
     },
     "output_type": "display_data"
    },
    {
     "data": {
      "image/png": "[encoded data removed]",
      "text/plain": [
       "<Figure size 432x288 with 1 Axes>"
      ]
     },
     "metadata": {
      "needs_background": "light"
     },
     "output_type": "display_data"
    }
   ],
   "source": [
    "# Thanks Jason Brownlee\n",
    "# https://machinelearningmastery.com/display-deep-learning-model-training-history-in-keras/\n",
    "\n",
    "print(history.history.keys())\n",
    "# summarize history for accuracy\n",
    "plt.plot(history.history['accuracy'])\n",
    "plt.plot(history.history['val_accuracy'])\n",
    "plt.title('model accuracy')\n",
    "plt.ylabel('accuracy')\n",
    "plt.xlabel('epoch')\n",
    "plt.legend(['train', 'test'], loc='upper left')\n",
    "plt.show()\n",
    "# summarize history for loss\n",
    "plt.plot(history.history['loss'])\n",
    "plt.plot(history.history['val_loss'])\n",
    "plt.title('model loss')\n",
    "plt.ylabel('loss')\n",
    "plt.xlabel('epoch')\n",
    "plt.legend(['train', 'test'], loc='upper left')\n",
    "plt.show()"
   ]
  },
  {
   "cell_type": "code",
   "execution_count": 57,
   "metadata": {},
   "outputs": [],
   "source": [
    "if (0):\n",
    "    model.save(os.path.join('keras', 'LSTM_tree'))\n",
    "    with open(os.path.join(\"keras\", \"LSTM_tree_history.pickle\"), 'wb') as f: pickle.dump(history, f)    #dump this model's history\n",
    "if (0):\n",
    "    model = keras.models.load_model(os.path.join('keras', 'LSTM_tree'))"
   ]
  },
  {
   "cell_type": "markdown",
   "metadata": {},
   "source": [
    "# for layer in model.layers:\n",
    "#     print(layer.output_shape)\n",
    "\n",
    "text = \"In this example, we developed a working Neural Network for the binary classification problem. The same problem can also be solved using other algorithms such as Logistic Regression, Naive Bayes, K-Nearest Neighbours. The choice of the algorithm to choose needs to be driven by the problem at hand and factors like, how much data size is available, computation power, etc. Deep Networks or Neural Networks are generally recommended if the available data size is large.\"\n",
    "sentiments = text_to_sentiments(text)\n",
    "\n",
    "print(\"sentiments shape: \", sentiments.shape)\n",
    "\n",
    "print(\"real - predicted\")\n",
    "for num in range(1010,1020):\n",
    "    scores = bool((model.evaluate(np.array([X_test[num]]), np.array([y_test[num]]), verbose=0, return_dict=True))['accuracy'])\n",
    "    prediction = model(np.array([X_test[num]]))\n",
    "    print(\"{} = {}:  {} - {} ({:.4f}...)\".format(num, scores, y_test[num], round(float(prediction.numpy())), float(prediction.numpy())))"
   ]
  },
  {
   "cell_type": "code",
   "execution_count": 68,
   "metadata": {},
   "outputs": [
    {
     "name": "stdout",
     "output_type": "stream",
     "text": [
      "('Failed to import pydot. You must `pip install pydot` and install graphviz (https://graphviz.gitlab.io/download/), ', 'for `pydotprint` to work.')\n"
     ]
    }
   ],
   "source": [
    "from keras.utils import plot_model\n",
    "plot_model(model, to_file='/tmp/model.png', show_shapes=True,)"
   ]
  }
 ],
 "metadata": {
  "kernelspec": {
   "display_name": "thesis_notebook",
   "language": "python",
   "name": "thesis_notebook"
  },
  "language_info": {
   "codemirror_mode": {
    "name": "ipython",
    "version": 3
   },
   "file_extension": ".py",
   "mimetype": "text/x-python",
   "name": "python",
   "nbconvert_exporter": "python",
   "pygments_lexer": "ipython3",
   "version": "3.8.6"
  }
 },
 "nbformat": 4,
 "nbformat_minor": 4
}
