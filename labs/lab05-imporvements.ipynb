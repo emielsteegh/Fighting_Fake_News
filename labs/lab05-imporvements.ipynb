{
 "cells": [
  {
   "cell_type": "code",
   "execution_count": 34,
   "metadata": {},
   "outputs": [],
   "source": [
    "import tensorflow as tf\n",
    "from tensorflow import keras\n",
    "from tensorflow.keras import layers\n",
    "\n",
    "from keras.models import Sequential\n",
    "from keras.layers import LSTM, Dense, Dropout, Masking, Embedding"
   ]
  },
  {
   "cell_type": "code",
   "execution_count": 35,
   "metadata": {},
   "outputs": [
    {
     "name": "stderr",
     "output_type": "stream",
     "text": [
      "[nltk_data] Downloading package punkt to\n",
      "[nltk_data]     C:\\Users\\emiel\\AppData\\Roaming\\nltk_data...\n",
      "[nltk_data]   Package punkt is already up-to-date!\n",
      "[nltk_data] Downloading package vader_lexicon to\n",
      "[nltk_data]     C:\\Users\\emiel\\AppData\\Roaming\\nltk_data...\n",
      "[nltk_data]   Package vader_lexicon is already up-to-date!\n"
     ]
    }
   ],
   "source": [
    "# imports\n",
    "import os\n",
    "import pandas as pd\n",
    "import numpy as np\n",
    "\n",
    "import random\n",
    "\n",
    "from nltk.sentiment.vader import SentimentIntensityAnalyzer as SIA\n",
    "sia = SIA()\n",
    "\n",
    "import nltk\n",
    "#file for punkt splitter\n",
    "nltk.download('punkt');\n",
    "#file for vader sentiment\n",
    "nltk.download('vader_lexicon');\n",
    "\n",
    "import matplotlib.pyplot as plt\n",
    "plt.rcParams[\"figure.figsize\"]=20,20\n",
    "%matplotlib inline"
   ]
  },
  {
   "cell_type": "markdown",
   "metadata": {},
   "source": [
    "<br><br>\n",
    "\n",
    "## Data loading/collection"
   ]
  },
  {
   "cell_type": "code",
   "execution_count": 3,
   "metadata": {},
   "outputs": [],
   "source": [
    "series_len = 100\n",
    "mask_value = -10\n",
    "max_len = 0\n",
    "\n",
    "def text_to_sentiments(text):\n",
    "    sentences = nltk.tokenize.sent_tokenize(text)\n",
    "    scores = [ sia.polarity_scores(s)['compound'] for s in sentences] #list of compound score per sentence\n",
    "    \n",
    "    if len(scores) < series_len:\n",
    "        t  = series_len - len(scores)\n",
    "        scores = np.pad(scores, (t, 0), mode='constant', constant_values=mask_value)\n",
    "        scores = scores.reshape((series_len, 1))\n",
    "    else:\n",
    "        scores = np.array(scores[(-1*series_len):])\n",
    "        scores = scores.reshape((series_len, 1))\n",
    "        \n",
    "    return scores"
   ]
  },
  {
   "cell_type": "code",
   "execution_count": 4,
   "metadata": {},
   "outputs": [
    {
     "name": "stdout",
     "output_type": "stream",
     "text": [
      "ERROR: Couldn't find data, will start building it now...\n"
     ]
    },
    {
     "data": {
      "text/html": [
       "<div>\n",
       "<style scoped>\n",
       "    .dataframe tbody tr th:only-of-type {\n",
       "        vertical-align: middle;\n",
       "    }\n",
       "\n",
       "    .dataframe tbody tr th {\n",
       "        vertical-align: top;\n",
       "    }\n",
       "\n",
       "    .dataframe thead th {\n",
       "        text-align: right;\n",
       "    }\n",
       "</style>\n",
       "<table border=\"1\" class=\"dataframe\">\n",
       "  <thead>\n",
       "    <tr style=\"text-align: right;\">\n",
       "      <th></th>\n",
       "      <th>scores</th>\n",
       "      <th>veracity</th>\n",
       "    </tr>\n",
       "  </thead>\n",
       "  <tbody>\n",
       "    <tr>\n",
       "      <th>0</th>\n",
       "      <td>[[-10.0], [-10.0], [-10.0], [-10.0], [-10.0], ...</td>\n",
       "      <td>1</td>\n",
       "    </tr>\n",
       "    <tr>\n",
       "      <th>1</th>\n",
       "      <td>[[-10.0], [-10.0], [-10.0], [-10.0], [-10.0], ...</td>\n",
       "      <td>1</td>\n",
       "    </tr>\n",
       "    <tr>\n",
       "      <th>2</th>\n",
       "      <td>[[-10.0], [-10.0], [-10.0], [-10.0], [-10.0], ...</td>\n",
       "      <td>1</td>\n",
       "    </tr>\n",
       "    <tr>\n",
       "      <th>3</th>\n",
       "      <td>[[-10.0], [-10.0], [-10.0], [-10.0], [-10.0], ...</td>\n",
       "      <td>1</td>\n",
       "    </tr>\n",
       "    <tr>\n",
       "      <th>4</th>\n",
       "      <td>[[-10.0], [-10.0], [-10.0], [-10.0], [-10.0], ...</td>\n",
       "      <td>1</td>\n",
       "    </tr>\n",
       "    <tr>\n",
       "      <th>...</th>\n",
       "      <td>...</td>\n",
       "      <td>...</td>\n",
       "    </tr>\n",
       "    <tr>\n",
       "      <th>44893</th>\n",
       "      <td>[[-10.0], [-10.0], [-10.0], [-10.0], [-10.0], ...</td>\n",
       "      <td>0</td>\n",
       "    </tr>\n",
       "    <tr>\n",
       "      <th>44894</th>\n",
       "      <td>[[-10.0], [-10.0], [-10.0], [-10.0], [-10.0], ...</td>\n",
       "      <td>0</td>\n",
       "    </tr>\n",
       "    <tr>\n",
       "      <th>44895</th>\n",
       "      <td>[[-0.0772], [-0.9646], [-0.9522], [0.4272], [0...</td>\n",
       "      <td>0</td>\n",
       "    </tr>\n",
       "    <tr>\n",
       "      <th>44896</th>\n",
       "      <td>[[-10.0], [-10.0], [-10.0], [-10.0], [-10.0], ...</td>\n",
       "      <td>0</td>\n",
       "    </tr>\n",
       "    <tr>\n",
       "      <th>44897</th>\n",
       "      <td>[[-10.0], [-10.0], [-10.0], [-10.0], [-10.0], ...</td>\n",
       "      <td>0</td>\n",
       "    </tr>\n",
       "  </tbody>\n",
       "</table>\n",
       "<p>44898 rows × 2 columns</p>\n",
       "</div>"
      ],
      "text/plain": [
       "                                                  scores  veracity\n",
       "0      [[-10.0], [-10.0], [-10.0], [-10.0], [-10.0], ...         1\n",
       "1      [[-10.0], [-10.0], [-10.0], [-10.0], [-10.0], ...         1\n",
       "2      [[-10.0], [-10.0], [-10.0], [-10.0], [-10.0], ...         1\n",
       "3      [[-10.0], [-10.0], [-10.0], [-10.0], [-10.0], ...         1\n",
       "4      [[-10.0], [-10.0], [-10.0], [-10.0], [-10.0], ...         1\n",
       "...                                                  ...       ...\n",
       "44893  [[-10.0], [-10.0], [-10.0], [-10.0], [-10.0], ...         0\n",
       "44894  [[-10.0], [-10.0], [-10.0], [-10.0], [-10.0], ...         0\n",
       "44895  [[-0.0772], [-0.9646], [-0.9522], [0.4272], [0...         0\n",
       "44896  [[-10.0], [-10.0], [-10.0], [-10.0], [-10.0], ...         0\n",
       "44897  [[-10.0], [-10.0], [-10.0], [-10.0], [-10.0], ...         0\n",
       "\n",
       "[44898 rows x 2 columns]"
      ]
     },
     "metadata": {},
     "output_type": "display_data"
    }
   ],
   "source": [
    "df = None\n",
    "try:\n",
    "    df = pd.read_csv(os.path.join('out', 'truefake_series.csv'))\n",
    "    print('Succesfully loaded data')\n",
    "except FileNotFoundError:\n",
    "    print('ERROR: Couldn\\'t find data, will start building it now...')\n",
    "    dataset_path_true = os.path.join(\"sources\", \"ISOT\", \"True.csv\")\n",
    "    dataset_path_fake = os.path.join(\"sources\", \"ISOT\", \"Fake.csv\")\n",
    "\n",
    "    dataset_load_true = pd.read_csv(dataset_path_true, encoding='utf-8') # make sure to use the right encoding\n",
    "    dataset_load_fake = pd.read_csv(dataset_path_fake, encoding='utf-8') \n",
    "    \n",
    "    df_T = pd.DataFrame(columns = ['scores', 'veracity'])\n",
    "    df_F = pd.DataFrame(columns = ['scores', 'veracity'])\n",
    "\n",
    "    df_T['scores'] = dataset_load_true.text.apply(text_to_sentiments)\n",
    "    df_T['veracity'] = 1\n",
    "\n",
    "    df_F['scores'] = dataset_load_fake.text.apply(text_to_sentiments)\n",
    "    df_F['veracity'] = 0\n",
    "\n",
    "    df = pd.concat([df_T,df_F], ignore_index=True)\n",
    "    df = df[df['scores'].map(lambda d: len(d)) > 0]\n",
    "    df.reset_index(drop = True, inplace=True)\n",
    "    \n",
    "    df = pd.concat([df_T,df_F], ignore_index=True)\n",
    "    df = df[df['scores'].map(lambda d: len(d)) > 0]\n",
    "    df.reset_index(drop = True, inplace=True)\n",
    "    \n",
    "    df.to_csv(os.path.join('out', 'truefake_series.csv'), index=False)\n",
    "    \n",
    "finally:\n",
    "    display(df)"
   ]
  },
  {
   "cell_type": "markdown",
   "metadata": {},
   "source": [
    "<br><br>\n",
    "## Splitting data"
   ]
  },
  {
   "cell_type": "code",
   "execution_count": 5,
   "metadata": {},
   "outputs": [],
   "source": [
    "def train_test_split(df_in, test_size, shuffle=True):\n",
    "    \n",
    "    if shuffle:\n",
    "        df_in = df_in.sample(frac=1).reset_index(drop=True)\n",
    "    \n",
    "    mask_test = np.random.rand(len(df_in)) < test_size # the sample is large enough to probably not care about proper division\n",
    "    \n",
    "    train = df_in[~mask_test]\n",
    "    test = df_in[mask_test]\n",
    "    \n",
    "    X_train = np.array(train['scores'].tolist())\n",
    "    y_train = np.array(train['veracity'].tolist())\n",
    "    \n",
    "    X_test = np.array(test['scores'].tolist())\n",
    "    y_test = np.array(test['veracity'].tolist())\n",
    "    \n",
    "    return (X_train, y_train), (X_test, y_test)"
   ]
  },
  {
   "cell_type": "code",
   "execution_count": 6,
   "metadata": {},
   "outputs": [],
   "source": [
    "# z = np.array([0.1,0.2,0.3])\n",
    "# z = z.reshape(3, 1)\n",
    "# print(z,'\\n')\n",
    "# x = pd.DataFrame({'A': [z,z,z,z]})\n",
    "# print(x,'\\n')\n",
    "# y = np.array(x['A'].to_list())\n",
    "# print(y,'\\n',y.shape)"
   ]
  },
  {
   "cell_type": "code",
   "execution_count": 25,
   "metadata": {},
   "outputs": [
    {
     "name": "stdout",
     "output_type": "stream",
     "text": [
      "train:  26825 26825 \n",
      "test:  18073 18073 \n",
      "test/total: 0.403 %\n"
     ]
    }
   ],
   "source": [
    "np.random.seed(100)\n",
    "random.seed(100)\n",
    "\n",
    "# # turn T/F labels into 1/0\n",
    "# d = {'T': 1, 'F':0}\n",
    "# df['veracity'] = df['veracity'].map(d)\n",
    "\n",
    "(X_train, y_train), (X_test, y_test) = train_test_split(df, test_size = 0.4)\n",
    "\n",
    "print(\"train: \",len(X_train), len(y_train),\n",
    "     \"\\ntest: \",len(X_test), len(y_test),\n",
    "     \"\\ntest/total: {:0.3f} %\".format(len(X_test)/(len(X_test)+len(X_train)))\n",
    "    )"
   ]
  },
  {
   "cell_type": "markdown",
   "metadata": {},
   "source": [
    "<br><br>\n",
    "\n",
    "## Building the model"
   ]
  },
  {
   "cell_type": "code",
   "execution_count": 8,
   "metadata": {},
   "outputs": [],
   "source": [
    "from keras.models import Sequential\n",
    "from keras.layers import LSTM, Dense, Dropout, Masking, Embedding"
   ]
  },
  {
   "cell_type": "code",
   "execution_count": 30,
   "metadata": {},
   "outputs": [
    {
     "name": "stdout",
     "output_type": "stream",
     "text": [
      "Model: \"sequential_8\"\n",
      "_________________________________________________________________\n",
      "Layer (type)                 Output Shape              Param #   \n",
      "=================================================================\n",
      "masking_12 (Masking)         (None, 100, 1)            0         \n",
      "_________________________________________________________________\n",
      "lstm_18 (LSTM)               (None, 100, 100)          40800     \n",
      "_________________________________________________________________\n",
      "lstm_19 (LSTM)               (None, 50)                30200     \n",
      "_________________________________________________________________\n",
      "dense_6 (Dense)              (None, 1)                 51        \n",
      "=================================================================\n",
      "Total params: 71,051\n",
      "Trainable params: 71,051\n",
      "Non-trainable params: 0\n",
      "_________________________________________________________________\n",
      "None\n"
     ]
    }
   ],
   "source": [
    "model = None\n",
    "\n",
    "model = Sequential()\n",
    "\n",
    "model.add(Masking(mask_value=mask_value,\n",
    "                  input_shape=(series_len, 1)))\n",
    "\n",
    "model.add(LSTM(100,return_sequences=True))\n",
    "\n",
    "model.add(LSTM(50))\n",
    "\n",
    "model.add(Dense(1, activation='sigmoid'))\n",
    "\n",
    "model.compile(loss='binary_crossentropy', optimizer='adam', metrics=['accuracy'])\n",
    "\n",
    "print(model.summary())"
   ]
  },
  {
   "cell_type": "code",
   "execution_count": 31,
   "metadata": {},
   "outputs": [
    {
     "name": "stdout",
     "output_type": "stream",
     "text": [
      "Epoch 1/20\n",
      "537/537 [==============================] - 76s 141ms/step - loss: 0.6857 - accuracy: 0.5536 - val_loss: 0.6775 - val_accuracy: 0.5734\n",
      "Epoch 2/20\n",
      "537/537 [==============================] - 71s 133ms/step - loss: 0.6728 - accuracy: 0.5842 - val_loss: 0.6774 - val_accuracy: 0.5867\n",
      "Epoch 3/20\n",
      "537/537 [==============================] - 70s 130ms/step - loss: 0.6676 - accuracy: 0.5956 - val_loss: 0.6662 - val_accuracy: 0.5954\n",
      "Epoch 4/20\n",
      "537/537 [==============================] - 70s 131ms/step - loss: 0.6603 - accuracy: 0.6014 - val_loss: 0.6638 - val_accuracy: 0.5935\n",
      "Epoch 5/20\n",
      "537/537 [==============================] - 70s 130ms/step - loss: 0.6553 - accuracy: 0.6055 - val_loss: 0.6550 - val_accuracy: 0.6068\n",
      "Epoch 6/20\n",
      "537/537 [==============================] - 70s 131ms/step - loss: 0.6504 - accuracy: 0.6149 - val_loss: 0.6545 - val_accuracy: 0.6070\n",
      "Epoch 7/20\n",
      "537/537 [==============================] - 72s 133ms/step - loss: 0.6464 - accuracy: 0.6158 - val_loss: 0.6489 - val_accuracy: 0.6198\n",
      "Epoch 8/20\n",
      "537/537 [==============================] - 69s 129ms/step - loss: 0.6431 - accuracy: 0.6238 - val_loss: 0.6484 - val_accuracy: 0.6220\n",
      "Epoch 9/20\n",
      "537/537 [==============================] - 70s 130ms/step - loss: 0.6419 - accuracy: 0.6298 - val_loss: 0.6450 - val_accuracy: 0.6318\n",
      "Epoch 10/20\n",
      "537/537 [==============================] - 69s 129ms/step - loss: 0.6364 - accuracy: 0.6359 - val_loss: 0.6451 - val_accuracy: 0.6293\n",
      "Epoch 11/20\n",
      "537/537 [==============================] - 71s 133ms/step - loss: 0.6363 - accuracy: 0.6376 - val_loss: 0.6416 - val_accuracy: 0.6313\n",
      "Epoch 12/20\n",
      "537/537 [==============================] - 69s 129ms/step - loss: 0.6341 - accuracy: 0.6371 - val_loss: 0.6396 - val_accuracy: 0.6356\n",
      "Epoch 13/20\n",
      "537/537 [==============================] - 69s 128ms/step - loss: 0.6310 - accuracy: 0.6434 - val_loss: 0.6391 - val_accuracy: 0.6378\n",
      "Epoch 14/20\n",
      "537/537 [==============================] - 68s 127ms/step - loss: 0.6299 - accuracy: 0.6443 - val_loss: 0.6404 - val_accuracy: 0.6347\n",
      "Epoch 15/20\n",
      "537/537 [==============================] - 69s 128ms/step - loss: 0.6274 - accuracy: 0.6454 - val_loss: 0.6401 - val_accuracy: 0.6354\n",
      "Epoch 16/20\n",
      "537/537 [==============================] - 67s 125ms/step - loss: 0.6260 - accuracy: 0.6475 - val_loss: 0.6415 - val_accuracy: 0.6349\n",
      "Epoch 17/20\n",
      "537/537 [==============================] - 67s 125ms/step - loss: 0.6243 - accuracy: 0.6464 - val_loss: 0.6369 - val_accuracy: 0.6337\n",
      "Epoch 18/20\n",
      "537/537 [==============================] - 67s 124ms/step - loss: 0.6221 - accuracy: 0.6510 - val_loss: 0.6396 - val_accuracy: 0.6358\n",
      "Epoch 19/20\n",
      "537/537 [==============================] - 67s 125ms/step - loss: 0.6203 - accuracy: 0.6496 - val_loss: 0.6341 - val_accuracy: 0.6414\n",
      "Epoch 20/20\n",
      "537/537 [==============================] - 67s 125ms/step - loss: 0.6188 - accuracy: 0.6521 - val_loss: 0.6342 - val_accuracy: 0.6411\n"
     ]
    }
   ],
   "source": [
    "history = model.fit(X_train, y_train, validation_data=(X_test, y_test), epochs=20, batch_size=50)"
   ]
  },
  {
   "cell_type": "code",
   "execution_count": 32,
   "metadata": {},
   "outputs": [
    {
     "name": "stdout",
     "output_type": "stream",
     "text": [
      "Accuracy: 64.11%\n"
     ]
    }
   ],
   "source": [
    "scores = model.evaluate(X_test, y_test, verbose=0)\n",
    "print(\"Accuracy: %.2f%%\" % (scores[1]*100))"
   ]
  },
  {
   "cell_type": "code",
   "execution_count": 33,
   "metadata": {},
   "outputs": [
    {
     "name": "stdout",
     "output_type": "stream",
     "text": [
      "dict_keys(['loss', 'accuracy', 'val_loss', 'val_accuracy'])\n"
     ]
    },
    {
     "data": {
      "image/png": "[encoded data removed]",
      "text/plain": [
       "<Figure size 432x288 with 1 Axes>"
      ]
     },
     "metadata": {
      "needs_background": "light"
     },
     "output_type": "display_data"
    },
    {
     "data": {
      "image/png": "[encoded data removed]",
      "text/plain": [
       "<Figure size 432x288 with 1 Axes>"
      ]
     },
     "metadata": {
      "needs_background": "light"
     },
     "output_type": "display_data"
    }
   ],
   "source": [
    "# Thanks Jason Brownlee\n",
    "# https://machinelearningmastery.com/display-deep-learning-model-training-history-in-keras/\n",
    "print(history.history.keys())\n",
    "# summarize history for accuracy\n",
    "plt.plot(history.history['accuracy'])\n",
    "plt.plot(history.history['val_accuracy'])\n",
    "plt.title('model accuracy')\n",
    "plt.ylabel('accuracy')\n",
    "plt.xlabel('epoch')\n",
    "plt.legend(['train', 'test'], loc='upper left')\n",
    "plt.show()\n",
    "# summarize history for loss\n",
    "plt.plot(history.history['loss'])\n",
    "plt.plot(history.history['val_loss'])\n",
    "plt.title('model loss')\n",
    "plt.ylabel('loss')\n",
    "plt.xlabel('epoch')\n",
    "plt.legend(['train', 'test'], loc='upper left')\n",
    "plt.show()"
   ]
  }
 ],
 "metadata": {
  "kernelspec": {
   "display_name": "thesis_notebook",
   "language": "python",
   "name": "thesis_notebook"
  },
  "language_info": {
   "codemirror_mode": {
    "name": "ipython",
    "version": 3
   },
   "file_extension": ".py",
   "mimetype": "text/x-python",
   "name": "python",
   "nbconvert_exporter": "python",
   "pygments_lexer": "ipython3",
   "version": "3.8.6"
  }
 },
 "nbformat": 4,
 "nbformat_minor": 4
}
