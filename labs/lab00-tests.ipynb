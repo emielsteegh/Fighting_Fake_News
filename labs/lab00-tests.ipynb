{
 "cells": [
  {
   "cell_type": "code",
   "execution_count": 62,
   "metadata": {
    "collapsed": true
   },
   "outputs": [],
   "source": [
    "# TODO pipuninstall graphviz or networkx\n",
    "import networkx as nx\n",
    "import matplotlib.pyplot as plt\n",
    "from IPython.display import Image\n",
    "\n",
    "import io"
   ]
  },
  {
   "cell_type": "code",
   "execution_count": 69,
   "outputs": [
    {
     "ename": "FileNotFoundError",
     "evalue": "[WinError 2] \"dot\" not found in path.",
     "output_type": "error",
     "traceback": [
      "\u001B[1;31m---------------------------------------------------------------------------\u001B[0m",
      "\u001B[1;31mFileNotFoundError\u001B[0m                         Traceback (most recent call last)",
      "\u001B[1;32m~\\.virtualenvs\\Thesis_Notebook-tvt70hiV\\lib\\site-packages\\pydot.py\u001B[0m in \u001B[0;36mcreate\u001B[1;34m(self, prog, format, encoding)\u001B[0m\n\u001B[0;32m   1911\u001B[0m         \u001B[1;32mtry\u001B[0m\u001B[1;33m:\u001B[0m\u001B[1;33m\u001B[0m\u001B[1;33m\u001B[0m\u001B[0m\n\u001B[1;32m-> 1912\u001B[1;33m             stdout_data, stderr_data, process = call_graphviz(\n\u001B[0m\u001B[0;32m   1913\u001B[0m                 \u001B[0mprogram\u001B[0m\u001B[1;33m=\u001B[0m\u001B[0mprog\u001B[0m\u001B[1;33m,\u001B[0m\u001B[1;33m\u001B[0m\u001B[1;33m\u001B[0m\u001B[0m\n",
      "\u001B[1;32m~\\.virtualenvs\\Thesis_Notebook-tvt70hiV\\lib\\site-packages\\pydot.py\u001B[0m in \u001B[0;36mcall_graphviz\u001B[1;34m(program, arguments, working_dir, **kwargs)\u001B[0m\n\u001B[0;32m    128\u001B[0m \u001B[1;33m\u001B[0m\u001B[0m\n\u001B[1;32m--> 129\u001B[1;33m     process = subprocess.Popen(\n\u001B[0m\u001B[0;32m    130\u001B[0m         \u001B[0mprogram_with_args\u001B[0m\u001B[1;33m,\u001B[0m\u001B[1;33m\u001B[0m\u001B[1;33m\u001B[0m\u001B[0m\n",
      "\u001B[1;32mc:\\users\\emiel\\appdata\\local\\programs\\python\\python38\\lib\\subprocess.py\u001B[0m in \u001B[0;36m__init__\u001B[1;34m(self, args, bufsize, executable, stdin, stdout, stderr, preexec_fn, close_fds, shell, cwd, env, universal_newlines, startupinfo, creationflags, restore_signals, start_new_session, pass_fds, encoding, errors, text)\u001B[0m\n\u001B[0;32m    853\u001B[0m \u001B[1;33m\u001B[0m\u001B[0m\n\u001B[1;32m--> 854\u001B[1;33m             self._execute_child(args, executable, preexec_fn, close_fds,\n\u001B[0m\u001B[0;32m    855\u001B[0m                                 \u001B[0mpass_fds\u001B[0m\u001B[1;33m,\u001B[0m \u001B[0mcwd\u001B[0m\u001B[1;33m,\u001B[0m \u001B[0menv\u001B[0m\u001B[1;33m,\u001B[0m\u001B[1;33m\u001B[0m\u001B[1;33m\u001B[0m\u001B[0m\n",
      "\u001B[1;32mc:\\users\\emiel\\appdata\\local\\programs\\python\\python38\\lib\\subprocess.py\u001B[0m in \u001B[0;36m_execute_child\u001B[1;34m(self, args, executable, preexec_fn, close_fds, pass_fds, cwd, env, startupinfo, creationflags, shell, p2cread, p2cwrite, c2pread, c2pwrite, errread, errwrite, unused_restore_signals, unused_start_new_session)\u001B[0m\n\u001B[0;32m   1306\u001B[0m             \u001B[1;32mtry\u001B[0m\u001B[1;33m:\u001B[0m\u001B[1;33m\u001B[0m\u001B[1;33m\u001B[0m\u001B[0m\n\u001B[1;32m-> 1307\u001B[1;33m                 hp, ht, pid, tid = _winapi.CreateProcess(executable, args,\n\u001B[0m\u001B[0;32m   1308\u001B[0m                                          \u001B[1;31m# no special security\u001B[0m\u001B[1;33m\u001B[0m\u001B[1;33m\u001B[0m\u001B[1;33m\u001B[0m\u001B[0m\n",
      "\u001B[1;31mFileNotFoundError\u001B[0m: [WinError 2] The system cannot find the file specified",
      "\nDuring handling of the above exception, another exception occurred:\n",
      "\u001B[1;31mFileNotFoundError\u001B[0m                         Traceback (most recent call last)",
      "\u001B[1;32m<ipython-input-69-6e0ad132b918>\u001B[0m in \u001B[0;36m<module>\u001B[1;34m\u001B[0m\n\u001B[0;32m     12\u001B[0m \u001B[1;33m\u001B[0m\u001B[0m\n\u001B[0;32m     13\u001B[0m \u001B[0mp\u001B[0m\u001B[1;33m=\u001B[0m\u001B[0mnx\u001B[0m\u001B[1;33m.\u001B[0m\u001B[0mdrawing\u001B[0m\u001B[1;33m.\u001B[0m\u001B[0mnx_pydot\u001B[0m\u001B[1;33m.\u001B[0m\u001B[0mto_pydot\u001B[0m\u001B[1;33m(\u001B[0m\u001B[0mgraph\u001B[0m\u001B[1;33m)\u001B[0m\u001B[1;33m\u001B[0m\u001B[1;33m\u001B[0m\u001B[0m\n\u001B[1;32m---> 14\u001B[1;33m \u001B[0mp\u001B[0m\u001B[1;33m.\u001B[0m\u001B[0mwrite_png\u001B[0m\u001B[1;33m(\u001B[0m\u001B[1;34m'multi.png'\u001B[0m\u001B[1;33m)\u001B[0m\u001B[1;33m\u001B[0m\u001B[1;33m\u001B[0m\u001B[0m\n\u001B[0m\u001B[0;32m     15\u001B[0m \u001B[0mImage\u001B[0m\u001B[1;33m(\u001B[0m\u001B[0mfilename\u001B[0m\u001B[1;33m=\u001B[0m\u001B[1;34m'multi.png'\u001B[0m\u001B[1;33m)\u001B[0m\u001B[1;33m\u001B[0m\u001B[1;33m\u001B[0m\u001B[0m\n",
      "\u001B[1;32m~\\.virtualenvs\\Thesis_Notebook-tvt70hiV\\lib\\site-packages\\pydot.py\u001B[0m in \u001B[0;36mnew_method\u001B[1;34m(path, f, prog, encoding)\u001B[0m\n\u001B[0;32m   1730\u001B[0m                     encoding=None):\n\u001B[0;32m   1731\u001B[0m                 \u001B[1;34m\"\"\"Refer to docstring of method `write.`\"\"\"\u001B[0m\u001B[1;33m\u001B[0m\u001B[1;33m\u001B[0m\u001B[0m\n\u001B[1;32m-> 1732\u001B[1;33m                 self.write(\n\u001B[0m\u001B[0;32m   1733\u001B[0m                     \u001B[0mpath\u001B[0m\u001B[1;33m,\u001B[0m \u001B[0mformat\u001B[0m\u001B[1;33m=\u001B[0m\u001B[0mf\u001B[0m\u001B[1;33m,\u001B[0m \u001B[0mprog\u001B[0m\u001B[1;33m=\u001B[0m\u001B[0mprog\u001B[0m\u001B[1;33m,\u001B[0m\u001B[1;33m\u001B[0m\u001B[1;33m\u001B[0m\u001B[0m\n\u001B[0;32m   1734\u001B[0m                     encoding=encoding)\n",
      "\u001B[1;32m~\\.virtualenvs\\Thesis_Notebook-tvt70hiV\\lib\\site-packages\\pydot.py\u001B[0m in \u001B[0;36mwrite\u001B[1;34m(self, path, prog, format, encoding)\u001B[0m\n\u001B[0;32m   1815\u001B[0m                 \u001B[0mf\u001B[0m\u001B[1;33m.\u001B[0m\u001B[0mwrite\u001B[0m\u001B[1;33m(\u001B[0m\u001B[0ms\u001B[0m\u001B[1;33m)\u001B[0m\u001B[1;33m\u001B[0m\u001B[1;33m\u001B[0m\u001B[0m\n\u001B[0;32m   1816\u001B[0m         \u001B[1;32melse\u001B[0m\u001B[1;33m:\u001B[0m\u001B[1;33m\u001B[0m\u001B[1;33m\u001B[0m\u001B[0m\n\u001B[1;32m-> 1817\u001B[1;33m             \u001B[0ms\u001B[0m \u001B[1;33m=\u001B[0m \u001B[0mself\u001B[0m\u001B[1;33m.\u001B[0m\u001B[0mcreate\u001B[0m\u001B[1;33m(\u001B[0m\u001B[0mprog\u001B[0m\u001B[1;33m,\u001B[0m \u001B[0mformat\u001B[0m\u001B[1;33m,\u001B[0m \u001B[0mencoding\u001B[0m\u001B[1;33m=\u001B[0m\u001B[0mencoding\u001B[0m\u001B[1;33m)\u001B[0m\u001B[1;33m\u001B[0m\u001B[1;33m\u001B[0m\u001B[0m\n\u001B[0m\u001B[0;32m   1818\u001B[0m             \u001B[1;32mwith\u001B[0m \u001B[0mio\u001B[0m\u001B[1;33m.\u001B[0m\u001B[0mopen\u001B[0m\u001B[1;33m(\u001B[0m\u001B[0mpath\u001B[0m\u001B[1;33m,\u001B[0m \u001B[0mmode\u001B[0m\u001B[1;33m=\u001B[0m\u001B[1;34m'wb'\u001B[0m\u001B[1;33m)\u001B[0m \u001B[1;32mas\u001B[0m \u001B[0mf\u001B[0m\u001B[1;33m:\u001B[0m\u001B[1;33m\u001B[0m\u001B[1;33m\u001B[0m\u001B[0m\n\u001B[0;32m   1819\u001B[0m                 \u001B[0mf\u001B[0m\u001B[1;33m.\u001B[0m\u001B[0mwrite\u001B[0m\u001B[1;33m(\u001B[0m\u001B[0ms\u001B[0m\u001B[1;33m)\u001B[0m\u001B[1;33m\u001B[0m\u001B[1;33m\u001B[0m\u001B[0m\n",
      "\u001B[1;32m~\\.virtualenvs\\Thesis_Notebook-tvt70hiV\\lib\\site-packages\\pydot.py\u001B[0m in \u001B[0;36mcreate\u001B[1;34m(self, prog, format, encoding)\u001B[0m\n\u001B[0;32m   1920\u001B[0m                 args[1] = '\"{prog}\" not found in path.'.format(\n\u001B[0;32m   1921\u001B[0m                     prog=prog)\n\u001B[1;32m-> 1922\u001B[1;33m                 \u001B[1;32mraise\u001B[0m \u001B[0mOSError\u001B[0m\u001B[1;33m(\u001B[0m\u001B[1;33m*\u001B[0m\u001B[0margs\u001B[0m\u001B[1;33m)\u001B[0m\u001B[1;33m\u001B[0m\u001B[1;33m\u001B[0m\u001B[0m\n\u001B[0m\u001B[0;32m   1923\u001B[0m             \u001B[1;32melse\u001B[0m\u001B[1;33m:\u001B[0m\u001B[1;33m\u001B[0m\u001B[1;33m\u001B[0m\u001B[0m\n\u001B[0;32m   1924\u001B[0m                 \u001B[1;32mraise\u001B[0m\u001B[1;33m\u001B[0m\u001B[1;33m\u001B[0m\u001B[0m\n",
      "\u001B[1;31mFileNotFoundError\u001B[0m: [WinError 2] \"dot\" not found in path."
     ]
    },
    {
     "data": {
      "text/plain": "<Figure size 432x288 with 1 Axes>",
      "image/png": "[encoded data removed]"
     },
     "metadata": {},
     "output_type": "display_data"
    }
   ],
   "source": [
    "graph = nx.MultiDiGraph()\n",
    "graph.add_edge('horses','apples', label='eat')\n",
    "graph.add_edge('horses','apples', label='sleep')\n",
    "\n",
    "pos=nx.spring_layout(graph)\n",
    "\n",
    "#display(draw(dot))\n",
    "nx.draw(graph, pos, with_labels=True)\n",
    "\n",
    "edge_labels = {(n1,n2):d['label'] for n1,n2,d in graph.edges(data=True)}\n",
    "nx.draw_networkx_edge_labels(graph, pos,edge_labels=edge_labels)\n",
    "\n",
    "p=nx.drawing.nx_pydot.to_pydot(graph)\n",
    "p.write_png('multi.png')\n",
    "Image(filename='multi.png')"
   ],
   "metadata": {
    "collapsed": false,
    "pycharm": {
     "name": "#%%\n"
    }
   }
  }
 ],
 "metadata": {
  "kernelspec": {
   "name": "thesis_notebook",
   "language": "python",
   "display_name": "thesis_notebook"
  },
  "language_info": {
   "codemirror_mode": {
    "name": "ipython",
    "version": 2
   },
   "file_extension": ".py",
   "mimetype": "text/x-python",
   "name": "python",
   "nbconvert_exporter": "python",
   "pygments_lexer": "ipython2",
   "version": "2.7.6"
  }
 },
 "nbformat": 4,
 "nbformat_minor": 0
}