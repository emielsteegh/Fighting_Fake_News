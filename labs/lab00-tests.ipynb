{
 "cells": [
  {
   "cell_type": "code",
   "execution_count": 8,
   "metadata": {
    "collapsed": true
   },
   "outputs": [],
   "source": [
    "# TODO pipuninstall graphviz or networkx\n",
    "import networkx as nx\n",
    "import matplotlib.pyplot as plt\n",
    "from IPython.display import Image\n",
    "from IPython.display import SVG\n",
    "\n",
    "import io"
   ]
  },
  {
   "cell_type": "code",
   "execution_count": 9,
   "outputs": [
    {
     "data": {
      "text/plain": "<IPython.core.display.SVG object>",
      "image/svg+xml": "<svg xmlns=\"http://www.w3.org/2000/svg\" xmlns:xlink=\"http://www.w3.org/1999/xlink\" width=\"77pt\" height=\"131pt\" viewBox=\"0.00 0.00 76.89 131.00\">\n<g id=\"graph0\" class=\"graph\" transform=\"scale(1 1) rotate(0) translate(4 127)\">\n<polygon fill=\"white\" stroke=\"transparent\" points=\"-4,4 -4,-127 72.89,-127 72.89,4 -4,4\"/>\n<!-- horses -->\n<g id=\"node1\" class=\"node\">\n<title>horses</title>\n<ellipse fill=\"none\" stroke=\"black\" cx=\"34.45\" cy=\"-105\" rx=\"34.39\" ry=\"18\"/>\n<text text-anchor=\"middle\" x=\"34.45\" y=\"-101.3\" font-family=\"Times New Roman,serif\" font-size=\"14.00\">horses</text>\n</g>\n<!-- apples -->\n<g id=\"node2\" class=\"node\">\n<title>apples</title>\n<ellipse fill=\"none\" stroke=\"black\" cx=\"34.45\" cy=\"-18\" rx=\"34.39\" ry=\"18\"/>\n<text text-anchor=\"middle\" x=\"34.45\" y=\"-14.3\" font-family=\"Times New Roman,serif\" font-size=\"14.00\">apples</text>\n</g>\n<!-- horses&#45;&gt;apples -->\n<g id=\"edge1\" class=\"edge\">\n<title>horses-&gt;apples</title>\n<path fill=\"none\" stroke=\"black\" d=\"M23.36,-87.61C18.17,-77.98 13.67,-65.48 16.45,-54 17.19,-50.91 18.26,-47.79 19.51,-44.75\"/>\n<polygon fill=\"black\" stroke=\"black\" points=\"22.8,-45.99 23.95,-35.45 16.49,-42.97 22.8,-45.99\"/>\n<text text-anchor=\"middle\" x=\"24.45\" y=\"-57.8\" font-family=\"Times New Roman,serif\" font-size=\"14.00\">eat</text>\n</g>\n<!-- horses&#45;&gt;apples -->\n<g id=\"edge2\" class=\"edge\">\n<title>horses-&gt;apples</title>\n<path fill=\"none\" stroke=\"black\" d=\"M34.45,-86.8C34.45,-75.16 34.45,-59.55 34.45,-46.24\"/>\n<polygon fill=\"black\" stroke=\"black\" points=\"37.95,-46.18 34.45,-36.18 30.95,-46.18 37.95,-46.18\"/>\n<text text-anchor=\"middle\" x=\"43.95\" y=\"-57.8\" font-family=\"Times New Roman,serif\" font-size=\"14.00\">like</text>\n</g>\n</g>\n</svg>"
     },
     "execution_count": 9,
     "metadata": {},
     "output_type": "execute_result"
    }
   ],
   "source": [
    "graph = nx.MultiDiGraph()\n",
    "graph.add_edge('horses','apples', label='eat')\n",
    "graph.add_edge('horses','apples', label='like')\n",
    "\n",
    "pos=nx.spring_layout(graph)\n",
    "\n",
    "p=nx.drawing.nx_pydot.to_pydot(graph)\n",
    "p.write_svg('multi.svg')\n",
    "SVG(filename='multi.svg')"
   ],
   "metadata": {
    "collapsed": false,
    "pycharm": {
     "name": "#%%\n"
    }
   }
  }
 ],
 "metadata": {
  "kernelspec": {
   "name": "thesis_notebook",
   "language": "python",
   "display_name": "thesis_notebook"
  },
  "language_info": {
   "codemirror_mode": {
    "name": "ipython",
    "version": 2
   },
   "file_extension": ".py",
   "mimetype": "text/x-python",
   "name": "python",
   "nbconvert_exporter": "python",
   "pygments_lexer": "ipython2",
   "version": "2.7.6"
  }
 },
 "nbformat": 4,
 "nbformat_minor": 0
}