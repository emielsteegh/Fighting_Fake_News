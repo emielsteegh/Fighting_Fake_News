{
 "cells": [
  {
   "cell_type": "code",
   "execution_count": 5,
   "metadata": {},
   "outputs": [],
   "source": [
    "import os\n",
    "from ArticleModule import Article\n",
    "\n",
    "import pandas as pd\n",
    "pd.set_option(\"display.precision\", 3)\n",
    "\n",
    "import matplotlib.pyplot as plt\n",
    "plt.close('all')"
   ]
  },
  {
   "cell_type": "code",
   "execution_count": 2,
   "metadata": {
    "collapsed": false,
    "jupyter": {
     "outputs_hidden": false
    },
    "pycharm": {
     "name": "#%%\n"
    }
   },
   "outputs": [],
   "source": [
    "# TODO try default sentiment parser tool, some others, build one myself\n",
    "# TODO line by line sentiment parser (-1,1)\n",
    "# TODO article sentiment (class?)\n",
    "    # defs to:\n",
    "        # set stat functions\n",
    "\n",
    "# TODO visualise sentiment throughout article\n",
    "\n",
    "# compare sentiment line of different articles, find average ones for fake or no\n",
    "\n",
    "# TODO article sentiment.statistics as input for Weka\n",
    "# Combine article sentiment data with other content cues for better everything\n",
    "\n",
    "# TODO test split speed of s_i_o vs nltk_tokenize\n",
    "\n",
    "# TODO train sentiment analyser with tru false sentences instead of sentiments"
   ]
  },
  {
   "cell_type": "code",
   "execution_count": 3,
   "metadata": {
    "collapsed": false,
    "jupyter": {
     "outputs_hidden": false
    },
    "pycharm": {
     "name": "#%%\n"
    }
   },
   "outputs": [
    {
     "name": "stdout",
     "output_type": "stream",
     "text": [
      "                                             sentence\n",
      "0   Developing a vaccine is a long-term process  I...\n",
      "1   It takes a long time to develop a vaccine for ...\n",
      "2   Every effort is being made to accelerate devel...\n",
      "3   More than 100 vaccines are in development  A t...\n",
      "4   A small number of them have reached the stage ...\n",
      "..                                                ...\n",
      "61  The project is led by UMC Utrecht and Utrecht ...\n",
      "62  The development of a vaccine normally takes 10...\n",
      "63  Because of the COVID-19 pandemic, the aim is t...\n",
      "64  The ACCESS project will help to prepare Europe...\n",
      "65  RIVM is contributing to the feasibility analys...\n",
      "\n",
      "[66 rows x 1 columns]\n"
     ]
    }
   ],
   "source": [
    "articles = []\n",
    "\n",
    "txt_path = os.path.join('sources', 'article_corona_vaccine.txt')\n",
    "with open(txt_path, 'r', encoding='utf-8') as r:\n",
    "        text = r.read().replace('\\n', ' ').replace('\\r', '')\n",
    "        articles.append(Article(text, \"Corona Test Article\"))\n"
   ]
  },
  {
   "cell_type": "code",
   "execution_count": 4,
   "metadata": {
    "collapsed": false,
    "jupyter": {
     "outputs_hidden": false
    },
    "pycharm": {
     "name": "#%%\n"
    }
   },
   "outputs": [
    {
     "name": "stdout",
     "output_type": "stream",
     "text": [
      "Corona Test Article\n",
      "count    66.000\n",
      "mean      0.098\n",
      "std       0.333\n",
      "min      -0.758\n",
      "25%       0.000\n",
      "50%       0.000\n",
      "75%       0.296\n",
      "max       0.840\n",
      "Name: score, dtype: float64\n"
     ]
    }
   ],
   "source": [
    "print(articles[0].article_title)\n",
    "print(articles[0].stats)"
   ]
  },
  {
   "cell_type": "code",
   "execution_count": 9,
   "metadata": {},
   "outputs": [
    {
     "data": {
      "text/plain": [
       "<AxesSubplot:>"
      ]
     },
     "execution_count": 9,
     "metadata": {},
     "output_type": "execute_result"
    },
    {
     "data": {
      "image/png": "[encoded data removed]",
      "text/plain": [
       "<Figure size 432x288 with 1 Axes>"
      ]
     },
     "metadata": {
      "needs_background": "light"
     },
     "output_type": "display_data"
    }
   ],
   "source": [
    "fingerprint = articles[0].data.plot(y='score', use_index=True)\n",
    "fingerprint"
   ]
  },
  {
   "cell_type": "code",
   "execution_count": 13,
   "metadata": {},
   "outputs": [
    {
     "data": {
      "text/html": [
       "<div>\n",
       "<style scoped>\n",
       "    .dataframe tbody tr th:only-of-type {\n",
       "        vertical-align: middle;\n",
       "    }\n",
       "\n",
       "    .dataframe tbody tr th {\n",
       "        vertical-align: top;\n",
       "    }\n",
       "\n",
       "    .dataframe thead th {\n",
       "        text-align: right;\n",
       "    }\n",
       "</style>\n",
       "<table border=\"1\" class=\"dataframe\">\n",
       "  <thead>\n",
       "    <tr style=\"text-align: right;\">\n",
       "      <th></th>\n",
       "      <th>fact_rating_phase1</th>\n",
       "      <th>snopes_url_phase1</th>\n",
       "      <th>article_title_phase1</th>\n",
       "      <th>article_category_phase1</th>\n",
       "      <th>article_date_phase1</th>\n",
       "      <th>article_claim_phase1</th>\n",
       "      <th>article_origin_url_phase1</th>\n",
       "      <th>index_paragraph_phase1</th>\n",
       "      <th>page_is_first_citation_phase1</th>\n",
       "      <th>error_phase2</th>\n",
       "      <th>original_article_text_phase2</th>\n",
       "      <th>article_title_phase2</th>\n",
       "      <th>publish_date_phase2</th>\n",
       "      <th>author_phase2</th>\n",
       "      <th>Jerry-label</th>\n",
       "      <th>Jill-label</th>\n",
       "      <th>Fatemeh-label</th>\n",
       "      <th>notes</th>\n",
       "      <th>original order</th>\n",
       "      <th>Agreement</th>\n",
       "    </tr>\n",
       "  </thead>\n",
       "  <tbody>\n",
       "    <tr>\n",
       "      <th>0</th>\n",
       "      <td>mixture</td>\n",
       "      <td>https://www.snopes.com/fact-check/elizabeth-wa...</td>\n",
       "      <td>Did Elizabeth Warren Lie About Her Native Amer...</td>\n",
       "      <td>Politics  Politicians</td>\n",
       "      <td>30-Oct-14</td>\n",
       "      <td>Elizabeth Warren lives in a multi-million-doll...</td>\n",
       "      <td>https://www.bostonglobe.com/metro/2012/01/13/e...</td>\n",
       "      <td>3</td>\n",
       "      <td>True</td>\n",
       "      <td>No Error</td>\n",
       "      <td>Elizabeth Warren, the Harvard Law School profe...</td>\n",
       "      <td>Elizabeth Warrens salary topped $700,000 over ...</td>\n",
       "      <td>1/13/12</td>\n",
       "      <td>Noah Bierman</td>\n",
       "      <td>context</td>\n",
       "      <td>context</td>\n",
       "      <td>context</td>\n",
       "      <td>NaN</td>\n",
       "      <td>1</td>\n",
       "      <td>NaN</td>\n",
       "    </tr>\n",
       "    <tr>\n",
       "      <th>1</th>\n",
       "      <td>mixture</td>\n",
       "      <td>https://www.snopes.com/fact-check/the-company-...</td>\n",
       "      <td>Animal Testing Resumes for Avon, Mary Kay, and...</td>\n",
       "      <td>Critter Country  Media Matters</td>\n",
       "      <td>31-Mar-15</td>\n",
       "      <td>Cosmetic companies Avon, Mary Kay and Este Lau...</td>\n",
       "      <td>http://www.thedogfiles.com/2012/02/27/animal-t...</td>\n",
       "      <td>3</td>\n",
       "      <td>True</td>\n",
       "      <td>No Error</td>\n",
       "      <td>As of right now I dont know what kinds of anim...</td>\n",
       "      <td>Animal Testing Resumes For Avon, Mary Kay, And...</td>\n",
       "      <td>2/27/12</td>\n",
       "      <td>Kenn Bell</td>\n",
       "      <td>right</td>\n",
       "      <td>right</td>\n",
       "      <td>right</td>\n",
       "      <td>NaN</td>\n",
       "      <td>2</td>\n",
       "      <td>NaN</td>\n",
       "    </tr>\n",
       "    <tr>\n",
       "      <th>2</th>\n",
       "      <td>mixture</td>\n",
       "      <td>https://www.snopes.com/fact-check/hillary-clin...</td>\n",
       "      <td>Did Hillary Clinton Tell FBIs Mueller to Deliv...</td>\n",
       "      <td>Politics  Conspiracy Theories</td>\n",
       "      <td>21-Jun-17</td>\n",
       "      <td>Then-Secretary of State Clinton ordered then-F...</td>\n",
       "      <td>https://www.intellihub.com/hillary-clinton-req...</td>\n",
       "      <td>4</td>\n",
       "      <td>True</td>\n",
       "      <td>No Error</td>\n",
       "      <td>\\r\\r\\r\\r\\r\\r  Former Secretary of State Hillar...</td>\n",
       "      <td>Hillary Clinton requested FBI Dir. Mueller del...</td>\n",
       "      <td>6/19/17</td>\n",
       "      <td>Shepard Ambellas</td>\n",
       "      <td>right</td>\n",
       "      <td>right</td>\n",
       "      <td>right</td>\n",
       "      <td>NaN</td>\n",
       "      <td>3</td>\n",
       "      <td>NaN</td>\n",
       "    </tr>\n",
       "    <tr>\n",
       "      <th>3</th>\n",
       "      <td>mixture</td>\n",
       "      <td>https://www.snopes.com/fact-check/light-fingered/</td>\n",
       "      <td>Dangers of CFL Mercury Light Bulbs</td>\n",
       "      <td>Medical</td>\n",
       "      <td>02-May-07</td>\n",
       "      <td>Energy-saving light bulbs  release dangerous a...</td>\n",
       "      <td>https://web.archive.org/web/20071003140931/htt...</td>\n",
       "      <td>6</td>\n",
       "      <td>True</td>\n",
       "      <td>No Error</td>\n",
       "      <td>Crushing Lamps\\r\\rCrushing and breaking fluore...</td>\n",
       "      <td>Mercury In King County: Crushing Lamps</td>\n",
       "      <td>NaN</td>\n",
       "      <td>Haz.Waste Metrokc.Gov</td>\n",
       "      <td>context</td>\n",
       "      <td>irrelevant</td>\n",
       "      <td>right</td>\n",
       "      <td>NaN</td>\n",
       "      <td>4</td>\n",
       "      <td>fj</td>\n",
       "    </tr>\n",
       "    <tr>\n",
       "      <th>4</th>\n",
       "      <td>mixture</td>\n",
       "      <td>https://www.snopes.com/fact-check/va-hospital-...</td>\n",
       "      <td>Did a VA Hospital Replace Military Flags with ...</td>\n",
       "      <td>Politics  Politics</td>\n",
       "      <td>15-Jun-18</td>\n",
       "      <td>A VA hospital removed military flags in order ...</td>\n",
       "      <td>https://archive.li/3kqSa</td>\n",
       "      <td>1</td>\n",
       "      <td>False</td>\n",
       "      <td>No Error</td>\n",
       "      <td>This was their response: \"Logistically, we cou...</td>\n",
       "      <td>Uncle Sam's Misguided Children</td>\n",
       "      <td>6/15/18</td>\n",
       "      <td>NaN</td>\n",
       "      <td>right</td>\n",
       "      <td>context</td>\n",
       "      <td>right</td>\n",
       "      <td>NaN</td>\n",
       "      <td>5</td>\n",
       "      <td>fj</td>\n",
       "    </tr>\n",
       "  </tbody>\n",
       "</table>\n",
       "</div>"
      ],
      "text/plain": [
       "  fact_rating_phase1                                  snopes_url_phase1  \\\n",
       "0            mixture  https://www.snopes.com/fact-check/elizabeth-wa...   \n",
       "1            mixture  https://www.snopes.com/fact-check/the-company-...   \n",
       "2            mixture  https://www.snopes.com/fact-check/hillary-clin...   \n",
       "3            mixture  https://www.snopes.com/fact-check/light-fingered/   \n",
       "4            mixture  https://www.snopes.com/fact-check/va-hospital-...   \n",
       "\n",
       "                                article_title_phase1  \\\n",
       "0  Did Elizabeth Warren Lie About Her Native Amer...   \n",
       "1  Animal Testing Resumes for Avon, Mary Kay, and...   \n",
       "2  Did Hillary Clinton Tell FBIs Mueller to Deliv...   \n",
       "3                 Dangers of CFL Mercury Light Bulbs   \n",
       "4  Did a VA Hospital Replace Military Flags with ...   \n",
       "\n",
       "          article_category_phase1 article_date_phase1  \\\n",
       "0           Politics  Politicians           30-Oct-14   \n",
       "1  Critter Country  Media Matters           31-Mar-15   \n",
       "2   Politics  Conspiracy Theories           21-Jun-17   \n",
       "3                         Medical           02-May-07   \n",
       "4              Politics  Politics           15-Jun-18   \n",
       "\n",
       "                                article_claim_phase1  \\\n",
       "0  Elizabeth Warren lives in a multi-million-doll...   \n",
       "1  Cosmetic companies Avon, Mary Kay and Este Lau...   \n",
       "2  Then-Secretary of State Clinton ordered then-F...   \n",
       "3  Energy-saving light bulbs  release dangerous a...   \n",
       "4  A VA hospital removed military flags in order ...   \n",
       "\n",
       "                           article_origin_url_phase1  index_paragraph_phase1  \\\n",
       "0  https://www.bostonglobe.com/metro/2012/01/13/e...                       3   \n",
       "1  http://www.thedogfiles.com/2012/02/27/animal-t...                       3   \n",
       "2  https://www.intellihub.com/hillary-clinton-req...                       4   \n",
       "3  https://web.archive.org/web/20071003140931/htt...                       6   \n",
       "4                           https://archive.li/3kqSa                       1   \n",
       "\n",
       "   page_is_first_citation_phase1 error_phase2  \\\n",
       "0                           True     No Error   \n",
       "1                           True     No Error   \n",
       "2                           True     No Error   \n",
       "3                           True     No Error   \n",
       "4                          False     No Error   \n",
       "\n",
       "                        original_article_text_phase2  \\\n",
       "0  Elizabeth Warren, the Harvard Law School profe...   \n",
       "1  As of right now I dont know what kinds of anim...   \n",
       "2  \\r\\r\\r\\r\\r\\r  Former Secretary of State Hillar...   \n",
       "3  Crushing Lamps\\r\\rCrushing and breaking fluore...   \n",
       "4  This was their response: \"Logistically, we cou...   \n",
       "\n",
       "                                article_title_phase2 publish_date_phase2  \\\n",
       "0  Elizabeth Warrens salary topped $700,000 over ...             1/13/12   \n",
       "1  Animal Testing Resumes For Avon, Mary Kay, And...             2/27/12   \n",
       "2  Hillary Clinton requested FBI Dir. Mueller del...             6/19/17   \n",
       "3             Mercury In King County: Crushing Lamps                 NaN   \n",
       "4                     Uncle Sam's Misguided Children             6/15/18   \n",
       "\n",
       "           author_phase2 Jerry-label  Jill-label Fatemeh-label notes  \\\n",
       "0           Noah Bierman     context     context       context   NaN   \n",
       "1              Kenn Bell       right       right         right   NaN   \n",
       "2       Shepard Ambellas       right       right         right   NaN   \n",
       "3  Haz.Waste Metrokc.Gov     context  irrelevant         right   NaN   \n",
       "4                    NaN       right     context         right   NaN   \n",
       "\n",
       "   original order Agreement  \n",
       "0               1       NaN  \n",
       "1               2       NaN  \n",
       "2               3       NaN  \n",
       "3               4        fj  \n",
       "4               5        fj  "
      ]
     },
     "execution_count": 13,
     "metadata": {},
     "output_type": "execute_result"
    }
   ],
   "source": [
    "dataset_path = os.path.join(\"sources\", \"snopes_checked_v02.csv\")\n",
    "dataset = pd.read_csv(dataset_path, engine='python')\n",
    "dataset.head()"
   ]
  }
 ],
 "metadata": {
  "kernelspec": {
   "display_name": "thesis_notebook",
   "language": "python",
   "name": "thesis_notebook"
  },
  "language_info": {
   "codemirror_mode": {
    "name": "ipython",
    "version": 3
   },
   "file_extension": ".py",
   "mimetype": "text/x-python",
   "name": "python",
   "nbconvert_exporter": "python",
   "pygments_lexer": "ipython3",
   "version": "3.8.6"
  }
 },
 "nbformat": 4,
 "nbformat_minor": 4
}
