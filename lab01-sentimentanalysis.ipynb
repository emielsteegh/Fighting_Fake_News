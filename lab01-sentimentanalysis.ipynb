{
 "cells": [
  {
   "cell_type": "markdown",
   "metadata": {},
   "source": [
    "# sentiment analysis using NLTK\n",
    "\n",
    "https://investigate.ai/investigating-sentiment-analysis/comparing-sentiment-analysis-tools/\n",
    "\n",
    "\n",
    "a demo of sentiment analyses\n",
    "\n",
    "|technique | word source | word selection| scores|\n",
    "|-|-|-|-|\n",
    "|NLTK (VADER)|everywhere|hand-picked|internet people, word-by-word|\n",
    "|TextBlob|product reviews|hand-picked, mostly adjectives|internet people, word-by-word|\n",
    "|TextBlob + NaiveBayesAnalyzer|movie reviews|all words|automatic based on score|"
   ]
  },
  {
   "cell_type": "code",
   "execution_count": 1,
   "metadata": {},
   "outputs": [],
   "source": [
    "import nltk"
   ]
  },
  {
   "cell_type": "code",
   "execution_count": 2,
   "metadata": {},
   "outputs": [
    {
     "name": "stderr",
     "output_type": "stream",
     "text": [
      "[nltk_data] Downloading package vader_lexicon to\n",
      "[nltk_data]     C:\\Users\\emiel\\AppData\\Roaming\\nltk_data...\n",
      "[nltk_data]   Package vader_lexicon is already up-to-date!\n",
      "[nltk_data] Downloading package movie_reviews to\n",
      "[nltk_data]     C:\\Users\\emiel\\AppData\\Roaming\\nltk_data...\n",
      "[nltk_data]   Package movie_reviews is already up-to-date!\n",
      "[nltk_data] Downloading package punkt to\n",
      "[nltk_data]     C:\\Users\\emiel\\AppData\\Roaming\\nltk_data...\n",
      "[nltk_data]   Package punkt is already up-to-date!\n"
     ]
    },
    {
     "data": {
      "text/plain": [
       "True"
      ]
     },
     "execution_count": 2,
     "metadata": {},
     "output_type": "execute_result"
    }
   ],
   "source": [
    "nltk.download('vader_lexicon')\n",
    "nltk.download('movie_reviews')\n",
    "nltk.download('punkt')"
   ]
  },
  {
   "cell_type": "code",
   "execution_count": 3,
   "metadata": {},
   "outputs": [
    {
     "name": "stdout",
     "output_type": "stream",
     "text": [
      "{'neg': 0.383, 'neu': 0.617, 'pos': 0.0, 'compound': -0.4767}\n",
      "{'neg': 0.0, 'neu': 0.62, 'pos': 0.38, 'compound': 0.5994}\n",
      "{'neg': 0.0, 'neu': 1.0, 'pos': 0.0, 'compound': 0.0}\n"
     ]
    }
   ],
   "source": [
    "from nltk.sentiment.vader import SentimentIntensityAnalyzer as SIA\n",
    "\n",
    "sia = SIA()\n",
    "print(sia.polarity_scores(\"The corona vaccine contains dangerous chemicals\"))\n",
    "print(sia.polarity_scores(\"The corona vaccine contains only safe ingredients and is harmless\"))\n",
    "print(sia.polarity_scores(\"The corona vaccine contains a compound called Formaldehyde\"))"
   ]
  },
  {
   "cell_type": "code",
   "execution_count": 4,
   "metadata": {},
   "outputs": [],
   "source": [
    "from textblob import TextBlob\n",
    "from textblob import Blobber\n",
    "from textblob.sentiments import NaiveBayesAnalyzer"
   ]
  },
  {
   "cell_type": "code",
   "execution_count": 5,
   "metadata": {},
   "outputs": [
    {
     "name": "stdout",
     "output_type": "stream",
     "text": [
      "Sentiment(polarity=-0.6, subjectivity=0.9)\n",
      "Sentiment(polarity=0.25, subjectivity=0.75)\n",
      "Sentiment(polarity=0.0, subjectivity=0.0)\n"
     ]
    }
   ],
   "source": [
    "print((TextBlob(\"The corona vaccine contains dangerous chemicals\")).sentiment)\n",
    "print((TextBlob(\"The corona vaccine contains only safe ingredients and is harmless\")).sentiment)\n",
    "print((TextBlob(\"The corona vaccine contains a compound called Formaldehyde\")).sentiment)"
   ]
  },
  {
   "cell_type": "code",
   "execution_count": 6,
   "metadata": {},
   "outputs": [
    {
     "name": "stdout",
     "output_type": "stream",
     "text": [
      "Sentiment(classification='neg', p_pos=0.26831221732575683, p_neg=0.7316877826742444)\n",
      "Sentiment(classification='pos', p_pos=0.6241247363042428, p_neg=0.3758752636957584)\n",
      "Sentiment(classification='neg', p_pos=0.40799306089467274, p_neg=0.5920069391053251)\n"
     ]
    }
   ],
   "source": [
    "posneg = Blobber(analyzer=NaiveBayesAnalyzer())\n",
    "\n",
    "print((posneg(\"The corona vaccine contains dangerous chemicals\")).sentiment)\n",
    "print((posneg(\"The corona vaccine contains only safe ingredients and is harmless\")).sentiment)\n",
    "print((posneg(\"The corona vaccine contains a compound called Formaldehyde\")).sentiment)"
   ]
  },
  {
   "cell_type": "code",
   "execution_count": 7,
   "metadata": {},
   "outputs": [
    {
     "data": {
      "text/html": [
       "<div>\n",
       "<style scoped>\n",
       "    .dataframe tbody tr th:only-of-type {\n",
       "        vertical-align: middle;\n",
       "    }\n",
       "\n",
       "    .dataframe tbody tr th {\n",
       "        vertical-align: top;\n",
       "    }\n",
       "\n",
       "    .dataframe thead th {\n",
       "        text-align: right;\n",
       "    }\n",
       "</style>\n",
       "<table border=\"1\" class=\"dataframe\">\n",
       "  <thead>\n",
       "    <tr style=\"text-align: right;\">\n",
       "      <th></th>\n",
       "      <th>content</th>\n",
       "    </tr>\n",
       "  </thead>\n",
       "  <tbody>\n",
       "    <tr>\n",
       "      <th>0</th>\n",
       "      <td>I love love love love this kitten</td>\n",
       "    </tr>\n",
       "    <tr>\n",
       "      <th>1</th>\n",
       "      <td>I hate hate hate hate this keyboard</td>\n",
       "    </tr>\n",
       "    <tr>\n",
       "      <th>2</th>\n",
       "      <td>I'm not sure how I feel about toast</td>\n",
       "    </tr>\n",
       "    <tr>\n",
       "      <th>3</th>\n",
       "      <td>Did you see the baseball game yesterday?</td>\n",
       "    </tr>\n",
       "    <tr>\n",
       "      <th>4</th>\n",
       "      <td>The package was delivered late and the contents were broken</td>\n",
       "    </tr>\n",
       "    <tr>\n",
       "      <th>5</th>\n",
       "      <td>Trashy television shows are some of my favorites</td>\n",
       "    </tr>\n",
       "    <tr>\n",
       "      <th>6</th>\n",
       "      <td>I'm seeing a Kubrick film tomorrow, I hear not so great things about it.</td>\n",
       "    </tr>\n",
       "    <tr>\n",
       "      <th>7</th>\n",
       "      <td>I find chirping birds irritating, but I know I'm not the only one</td>\n",
       "    </tr>\n",
       "    <tr>\n",
       "      <th>8</th>\n",
       "      <td>--------------------------------------</td>\n",
       "    </tr>\n",
       "    <tr>\n",
       "      <th>9</th>\n",
       "      <td>The corona vaccine contains dangerous chemicals</td>\n",
       "    </tr>\n",
       "    <tr>\n",
       "      <th>10</th>\n",
       "      <td>The corona vaccine contains only safe ingredients and is harmless</td>\n",
       "    </tr>\n",
       "    <tr>\n",
       "      <th>11</th>\n",
       "      <td>The corona vaccine contains a compound called Formaldehyde</td>\n",
       "    </tr>\n",
       "  </tbody>\n",
       "</table>\n",
       "</div>"
      ],
      "text/plain": [
       "                                                                     content\n",
       "0                                          I love love love love this kitten\n",
       "1                                        I hate hate hate hate this keyboard\n",
       "2                                        I'm not sure how I feel about toast\n",
       "3                                   Did you see the baseball game yesterday?\n",
       "4                The package was delivered late and the contents were broken\n",
       "5                           Trashy television shows are some of my favorites\n",
       "6   I'm seeing a Kubrick film tomorrow, I hear not so great things about it.\n",
       "7          I find chirping birds irritating, but I know I'm not the only one\n",
       "8                                     --------------------------------------\n",
       "9                            The corona vaccine contains dangerous chemicals\n",
       "10         The corona vaccine contains only safe ingredients and is harmless\n",
       "11                The corona vaccine contains a compound called Formaldehyde"
      ]
     },
     "execution_count": 7,
     "metadata": {},
     "output_type": "execute_result"
    }
   ],
   "source": [
    "import pandas as pd\n",
    "pd.set_option(\"display.max_colwidth\", 200)\n",
    "\n",
    "df = pd.DataFrame({'content': [\n",
    "    \"I love love love love this kitten\",\n",
    "    \"I hate hate hate hate this keyboard\",\n",
    "    \"I'm not sure how I feel about toast\",\n",
    "    \"Did you see the baseball game yesterday?\",\n",
    "    \"The package was delivered late and the contents were broken\",\n",
    "    \"Trashy television shows are some of my favorites\",\n",
    "    \"I'm seeing a Kubrick film tomorrow, I hear not so great things about it.\",\n",
    "    \"I find chirping birds irritating, but I know I'm not the only one\",\n",
    "    \"--------------------------------------\",\n",
    "    \"The corona vaccine contains dangerous chemicals\",\n",
    "    \"The corona vaccine contains only safe ingredients and is harmless\",\n",
    "    \"The corona vaccine contains a compound called Formaldehyde\",\n",
    "]})\n",
    "df"
   ]
  },
  {
   "cell_type": "code",
   "execution_count": 8,
   "metadata": {},
   "outputs": [
    {
     "data": {
      "text/html": [
       "<style  type=\"text/css\" >\n",
       "#T_5f9661bc_3189_11eb_89ca_e4a471b062berow0_col1{\n",
       "            background-color:  #c3e67d;\n",
       "            color:  #000000;\n",
       "        }#T_5f9661bc_3189_11eb_89ca_e4a471b062berow0_col2{\n",
       "            background-color:  #fff6b0;\n",
       "            color:  #000000;\n",
       "        }#T_5f9661bc_3189_11eb_89ca_e4a471b062berow0_col3{\n",
       "            background-color:  #73c264;\n",
       "            color:  #000000;\n",
       "        }#T_5f9661bc_3189_11eb_89ca_e4a471b062berow1_col1{\n",
       "            background-color:  #fa9656;\n",
       "            color:  #000000;\n",
       "        }#T_5f9661bc_3189_11eb_89ca_e4a471b062berow1_col2{\n",
       "            background-color:  #feeb9d;\n",
       "            color:  #000000;\n",
       "        }#T_5f9661bc_3189_11eb_89ca_e4a471b062berow1_col3{\n",
       "            background-color:  #f67a49;\n",
       "            color:  #000000;\n",
       "        }#T_5f9661bc_3189_11eb_89ca_e4a471b062berow2_col1,#T_5f9661bc_3189_11eb_89ca_e4a471b062berow7_col3{\n",
       "            background-color:  #fee797;\n",
       "            color:  #000000;\n",
       "        }#T_5f9661bc_3189_11eb_89ca_e4a471b062berow2_col2{\n",
       "            background-color:  #d3ec87;\n",
       "            color:  #000000;\n",
       "        }#T_5f9661bc_3189_11eb_89ca_e4a471b062berow2_col3{\n",
       "            background-color:  #fee999;\n",
       "            color:  #000000;\n",
       "        }#T_5f9661bc_3189_11eb_89ca_e4a471b062berow3_col1{\n",
       "            background-color:  #fed683;\n",
       "            color:  #000000;\n",
       "        }#T_5f9661bc_3189_11eb_89ca_e4a471b062berow3_col2{\n",
       "            background-color:  #b1de71;\n",
       "            color:  #000000;\n",
       "        }#T_5f9661bc_3189_11eb_89ca_e4a471b062berow3_col3,#T_5f9661bc_3189_11eb_89ca_e4a471b062berow5_col1,#T_5f9661bc_3189_11eb_89ca_e4a471b062berow8_col1,#T_5f9661bc_3189_11eb_89ca_e4a471b062berow8_col2,#T_5f9661bc_3189_11eb_89ca_e4a471b062berow8_col3,#T_5f9661bc_3189_11eb_89ca_e4a471b062berow11_col1,#T_5f9661bc_3189_11eb_89ca_e4a471b062berow11_col3{\n",
       "            background-color:  #fffebe;\n",
       "            color:  #000000;\n",
       "        }#T_5f9661bc_3189_11eb_89ca_e4a471b062berow4_col1{\n",
       "            background-color:  #fede89;\n",
       "            color:  #000000;\n",
       "        }#T_5f9661bc_3189_11eb_89ca_e4a471b062berow4_col2{\n",
       "            background-color:  #fdbd6d;\n",
       "            color:  #000000;\n",
       "        }#T_5f9661bc_3189_11eb_89ca_e4a471b062berow4_col3,#T_5f9661bc_3189_11eb_89ca_e4a471b062berow9_col3{\n",
       "            background-color:  #feca79;\n",
       "            color:  #000000;\n",
       "        }#T_5f9661bc_3189_11eb_89ca_e4a471b062berow5_col2{\n",
       "            background-color:  #fbfdba;\n",
       "            color:  #000000;\n",
       "        }#T_5f9661bc_3189_11eb_89ca_e4a471b062berow5_col3{\n",
       "            background-color:  #cfeb85;\n",
       "            color:  #000000;\n",
       "        }#T_5f9661bc_3189_11eb_89ca_e4a471b062berow6_col1{\n",
       "            background-color:  #91d068;\n",
       "            color:  #000000;\n",
       "        }#T_5f9661bc_3189_11eb_89ca_e4a471b062berow6_col2{\n",
       "            background-color:  #a0d669;\n",
       "            color:  #000000;\n",
       "        }#T_5f9661bc_3189_11eb_89ca_e4a471b062berow6_col3{\n",
       "            background-color:  #fdb567;\n",
       "            color:  #000000;\n",
       "        }#T_5f9661bc_3189_11eb_89ca_e4a471b062berow7_col1{\n",
       "            background-color:  #feec9f;\n",
       "            color:  #000000;\n",
       "        }#T_5f9661bc_3189_11eb_89ca_e4a471b062berow7_col2,#T_5f9661bc_3189_11eb_89ca_e4a471b062berow10_col1,#T_5f9661bc_3189_11eb_89ca_e4a471b062berow10_col2{\n",
       "            background-color:  #e3f399;\n",
       "            color:  #000000;\n",
       "        }#T_5f9661bc_3189_11eb_89ca_e4a471b062berow9_col1{\n",
       "            background-color:  #fdb96a;\n",
       "            color:  #000000;\n",
       "        }#T_5f9661bc_3189_11eb_89ca_e4a471b062berow9_col2{\n",
       "            background-color:  #fecc7b;\n",
       "            color:  #000000;\n",
       "        }#T_5f9661bc_3189_11eb_89ca_e4a471b062berow10_col3{\n",
       "            background-color:  #b3df72;\n",
       "            color:  #000000;\n",
       "        }#T_5f9661bc_3189_11eb_89ca_e4a471b062berow11_col2{\n",
       "            background-color:  #feeda1;\n",
       "            color:  #000000;\n",
       "        }</style><table id=\"T_5f9661bc_3189_11eb_89ca_e4a471b062be\" ><thead>    <tr>        <th class=\"blank level0\" ></th>        <th class=\"col_heading level0 col0\" >content</th>        <th class=\"col_heading level0 col1\" >textblob</th>        <th class=\"col_heading level0 col2\" >textblob_bayes</th>        <th class=\"col_heading level0 col3\" >nltk</th>    </tr></thead><tbody>\n",
       "                <tr>\n",
       "                        <th id=\"T_5f9661bc_3189_11eb_89ca_e4a471b062belevel0_row0\" class=\"row_heading level0 row0\" >0</th>\n",
       "                        <td id=\"T_5f9661bc_3189_11eb_89ca_e4a471b062berow0_col0\" class=\"data row0 col0\" >I love love love love this kitten</td>\n",
       "                        <td id=\"T_5f9661bc_3189_11eb_89ca_e4a471b062berow0_col1\" class=\"data row0 col1\" >0.500000</td>\n",
       "                        <td id=\"T_5f9661bc_3189_11eb_89ca_e4a471b062berow0_col2\" class=\"data row0 col2\" >-0.087933</td>\n",
       "                        <td id=\"T_5f9661bc_3189_11eb_89ca_e4a471b062berow0_col3\" class=\"data row0 col3\" >0.957100</td>\n",
       "            </tr>\n",
       "            <tr>\n",
       "                        <th id=\"T_5f9661bc_3189_11eb_89ca_e4a471b062belevel0_row1\" class=\"row_heading level0 row1\" >1</th>\n",
       "                        <td id=\"T_5f9661bc_3189_11eb_89ca_e4a471b062berow1_col0\" class=\"data row1 col0\" >I hate hate hate hate this keyboard</td>\n",
       "                        <td id=\"T_5f9661bc_3189_11eb_89ca_e4a471b062berow1_col1\" class=\"data row1 col1\" >-0.800000</td>\n",
       "                        <td id=\"T_5f9661bc_3189_11eb_89ca_e4a471b062berow1_col2\" class=\"data row1 col2\" >-0.214151</td>\n",
       "                        <td id=\"T_5f9661bc_3189_11eb_89ca_e4a471b062berow1_col3\" class=\"data row1 col3\" >-0.941300</td>\n",
       "            </tr>\n",
       "            <tr>\n",
       "                        <th id=\"T_5f9661bc_3189_11eb_89ca_e4a471b062belevel0_row2\" class=\"row_heading level0 row2\" >2</th>\n",
       "                        <td id=\"T_5f9661bc_3189_11eb_89ca_e4a471b062berow2_col0\" class=\"data row2 col0\" >I'm not sure how I feel about toast</td>\n",
       "                        <td id=\"T_5f9661bc_3189_11eb_89ca_e4a471b062berow2_col1\" class=\"data row2 col1\" >-0.250000</td>\n",
       "                        <td id=\"T_5f9661bc_3189_11eb_89ca_e4a471b062berow2_col2\" class=\"data row2 col2\" >0.394659</td>\n",
       "                        <td id=\"T_5f9661bc_3189_11eb_89ca_e4a471b062berow2_col3\" class=\"data row2 col3\" >-0.241100</td>\n",
       "            </tr>\n",
       "            <tr>\n",
       "                        <th id=\"T_5f9661bc_3189_11eb_89ca_e4a471b062belevel0_row3\" class=\"row_heading level0 row3\" >3</th>\n",
       "                        <td id=\"T_5f9661bc_3189_11eb_89ca_e4a471b062berow3_col0\" class=\"data row3 col0\" >Did you see the baseball game yesterday?</td>\n",
       "                        <td id=\"T_5f9661bc_3189_11eb_89ca_e4a471b062berow3_col1\" class=\"data row3 col1\" >-0.400000</td>\n",
       "                        <td id=\"T_5f9661bc_3189_11eb_89ca_e4a471b062berow3_col2\" class=\"data row3 col2\" >0.613050</td>\n",
       "                        <td id=\"T_5f9661bc_3189_11eb_89ca_e4a471b062berow3_col3\" class=\"data row3 col3\" >0.000000</td>\n",
       "            </tr>\n",
       "            <tr>\n",
       "                        <th id=\"T_5f9661bc_3189_11eb_89ca_e4a471b062belevel0_row4\" class=\"row_heading level0 row4\" >4</th>\n",
       "                        <td id=\"T_5f9661bc_3189_11eb_89ca_e4a471b062berow4_col0\" class=\"data row4 col0\" >The package was delivered late and the contents were broken</td>\n",
       "                        <td id=\"T_5f9661bc_3189_11eb_89ca_e4a471b062berow4_col1\" class=\"data row4 col1\" >-0.350000</td>\n",
       "                        <td id=\"T_5f9661bc_3189_11eb_89ca_e4a471b062berow4_col2\" class=\"data row4 col2\" >-0.574270</td>\n",
       "                        <td id=\"T_5f9661bc_3189_11eb_89ca_e4a471b062berow4_col3\" class=\"data row4 col3\" >-0.476700</td>\n",
       "            </tr>\n",
       "            <tr>\n",
       "                        <th id=\"T_5f9661bc_3189_11eb_89ca_e4a471b062belevel0_row5\" class=\"row_heading level0 row5\" >5</th>\n",
       "                        <td id=\"T_5f9661bc_3189_11eb_89ca_e4a471b062berow5_col0\" class=\"data row5 col0\" >Trashy television shows are some of my favorites</td>\n",
       "                        <td id=\"T_5f9661bc_3189_11eb_89ca_e4a471b062berow5_col1\" class=\"data row5 col1\" >0.000000</td>\n",
       "                        <td id=\"T_5f9661bc_3189_11eb_89ca_e4a471b062berow5_col2\" class=\"data row5 col2\" >0.040076</td>\n",
       "                        <td id=\"T_5f9661bc_3189_11eb_89ca_e4a471b062berow5_col3\" class=\"data row5 col3\" >0.421500</td>\n",
       "            </tr>\n",
       "            <tr>\n",
       "                        <th id=\"T_5f9661bc_3189_11eb_89ca_e4a471b062belevel0_row6\" class=\"row_heading level0 row6\" >6</th>\n",
       "                        <td id=\"T_5f9661bc_3189_11eb_89ca_e4a471b062berow6_col0\" class=\"data row6 col0\" >I'm seeing a Kubrick film tomorrow, I hear not so great things about it.</td>\n",
       "                        <td id=\"T_5f9661bc_3189_11eb_89ca_e4a471b062berow6_col1\" class=\"data row6 col1\" >0.800000</td>\n",
       "                        <td id=\"T_5f9661bc_3189_11eb_89ca_e4a471b062berow6_col2\" class=\"data row6 col2\" >0.717875</td>\n",
       "                        <td id=\"T_5f9661bc_3189_11eb_89ca_e4a471b062berow6_col3\" class=\"data row6 col3\" >-0.629600</td>\n",
       "            </tr>\n",
       "            <tr>\n",
       "                        <th id=\"T_5f9661bc_3189_11eb_89ca_e4a471b062belevel0_row7\" class=\"row_heading level0 row7\" >7</th>\n",
       "                        <td id=\"T_5f9661bc_3189_11eb_89ca_e4a471b062berow7_col0\" class=\"data row7 col0\" >I find chirping birds irritating, but I know I'm not the only one</td>\n",
       "                        <td id=\"T_5f9661bc_3189_11eb_89ca_e4a471b062berow7_col1\" class=\"data row7 col1\" >-0.200000</td>\n",
       "                        <td id=\"T_5f9661bc_3189_11eb_89ca_e4a471b062berow7_col2\" class=\"data row7 col2\" >0.257148</td>\n",
       "                        <td id=\"T_5f9661bc_3189_11eb_89ca_e4a471b062berow7_col3\" class=\"data row7 col3\" >-0.250000</td>\n",
       "            </tr>\n",
       "            <tr>\n",
       "                        <th id=\"T_5f9661bc_3189_11eb_89ca_e4a471b062belevel0_row8\" class=\"row_heading level0 row8\" >8</th>\n",
       "                        <td id=\"T_5f9661bc_3189_11eb_89ca_e4a471b062berow8_col0\" class=\"data row8 col0\" >--------------------------------------</td>\n",
       "                        <td id=\"T_5f9661bc_3189_11eb_89ca_e4a471b062berow8_col1\" class=\"data row8 col1\" >0.000000</td>\n",
       "                        <td id=\"T_5f9661bc_3189_11eb_89ca_e4a471b062berow8_col2\" class=\"data row8 col2\" >0.000000</td>\n",
       "                        <td id=\"T_5f9661bc_3189_11eb_89ca_e4a471b062berow8_col3\" class=\"data row8 col3\" >0.000000</td>\n",
       "            </tr>\n",
       "            <tr>\n",
       "                        <th id=\"T_5f9661bc_3189_11eb_89ca_e4a471b062belevel0_row9\" class=\"row_heading level0 row9\" >9</th>\n",
       "                        <td id=\"T_5f9661bc_3189_11eb_89ca_e4a471b062berow9_col0\" class=\"data row9 col0\" >The corona vaccine contains dangerous chemicals</td>\n",
       "                        <td id=\"T_5f9661bc_3189_11eb_89ca_e4a471b062berow9_col1\" class=\"data row9 col1\" >-0.600000</td>\n",
       "                        <td id=\"T_5f9661bc_3189_11eb_89ca_e4a471b062berow9_col2\" class=\"data row9 col2\" >-0.463376</td>\n",
       "                        <td id=\"T_5f9661bc_3189_11eb_89ca_e4a471b062berow9_col3\" class=\"data row9 col3\" >-0.476700</td>\n",
       "            </tr>\n",
       "            <tr>\n",
       "                        <th id=\"T_5f9661bc_3189_11eb_89ca_e4a471b062belevel0_row10\" class=\"row_heading level0 row10\" >10</th>\n",
       "                        <td id=\"T_5f9661bc_3189_11eb_89ca_e4a471b062berow10_col0\" class=\"data row10 col0\" >The corona vaccine contains only safe ingredients and is harmless</td>\n",
       "                        <td id=\"T_5f9661bc_3189_11eb_89ca_e4a471b062berow10_col1\" class=\"data row10 col1\" >0.250000</td>\n",
       "                        <td id=\"T_5f9661bc_3189_11eb_89ca_e4a471b062berow10_col2\" class=\"data row10 col2\" >0.248249</td>\n",
       "                        <td id=\"T_5f9661bc_3189_11eb_89ca_e4a471b062berow10_col3\" class=\"data row10 col3\" >0.599400</td>\n",
       "            </tr>\n",
       "            <tr>\n",
       "                        <th id=\"T_5f9661bc_3189_11eb_89ca_e4a471b062belevel0_row11\" class=\"row_heading level0 row11\" >11</th>\n",
       "                        <td id=\"T_5f9661bc_3189_11eb_89ca_e4a471b062berow11_col0\" class=\"data row11 col0\" >The corona vaccine contains a compound called Formaldehyde</td>\n",
       "                        <td id=\"T_5f9661bc_3189_11eb_89ca_e4a471b062berow11_col1\" class=\"data row11 col1\" >0.000000</td>\n",
       "                        <td id=\"T_5f9661bc_3189_11eb_89ca_e4a471b062berow11_col2\" class=\"data row11 col2\" >-0.184014</td>\n",
       "                        <td id=\"T_5f9661bc_3189_11eb_89ca_e4a471b062berow11_col3\" class=\"data row11 col3\" >0.000000</td>\n",
       "            </tr>\n",
       "    </tbody></table>"
      ],
      "text/plain": [
       "<pandas.io.formats.style.Styler at 0x2d5907aceb0>"
      ]
     },
     "execution_count": 8,
     "metadata": {},
     "output_type": "execute_result"
    }
   ],
   "source": [
    "def get_scores(content):\n",
    "    blob = TextBlob(content)\n",
    "    nb_blob = posneg(content)\n",
    "    sia_scores = sia.polarity_scores(content)\n",
    "    \n",
    "    return pd.Series({\n",
    "        'content': content,\n",
    "        'textblob': blob.sentiment.polarity,\n",
    "        'textblob_bayes': nb_blob.sentiment.p_pos - nb_blob.sentiment.p_neg,\n",
    "        'nltk': sia_scores['compound'],\n",
    "    })\n",
    "\n",
    "scores = df.content.apply(get_scores)\n",
    "scores.style.background_gradient(cmap='RdYlGn', axis=None, low=0.4, high=0.4)"
   ]
  },
  {
   "cell_type": "code",
   "execution_count": null,
   "outputs": [],
   "source": [
    "# TODO try default sentiment parser tool, some others, build one myself\n",
    "# TODO line by line sentiment parser (-1,1)\n",
    "# TODO article sentiment (class?)\n",
    "    # list of sentence sentiments in order\n",
    "    # article text\n",
    "    # amount of lines\n",
    "    # statistical info for learning/model (args kwargs?)\n",
    "    # defs to:\n",
    "        # def to analyse sentiments (input parser)\n",
    "        # map sentence to score and back\n",
    "        # set stat functions\n",
    "\n",
    "# TODO visualise sentiment throughout article\n",
    "\n",
    "# compare sentiment line of different articles, find average ones for fake or no\n",
    "\n",
    "# TODO article sentiment.statistics as input for Weka\n",
    "# Combine article sentiment data with other content cues for better everything"
   ],
   "metadata": {
    "collapsed": false,
    "pycharm": {
     "name": "#%%\n"
    }
   }
  }
 ],
 "metadata": {
  "kernelspec": {
   "display_name": "fakenewsthesis",
   "language": "python",
   "name": "fakenewsthesis"
  },
  "language_info": {
   "codemirror_mode": {
    "name": "ipython",
    "version": 3
   },
   "file_extension": ".py",
   "mimetype": "text/x-python",
   "name": "python",
   "nbconvert_exporter": "python",
   "pygments_lexer": "ipython3",
   "version": "3.8.6"
  }
 },
 "nbformat": 4,
 "nbformat_minor": 4
}